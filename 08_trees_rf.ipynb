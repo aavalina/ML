{
  "cells": [
    {
      "cell_type": "markdown",
      "metadata": {
        "id": "9-91Ctes0rsQ"
      },
      "source": [
        "## Деревья. Случайный лес"
      ]
    },
    {
      "cell_type": "markdown",
      "metadata": {
        "id": "SQMrqDVS0rsT"
      },
      "source": [
        "#### 1. Основы построения решающего дерева"
      ]
    },
    {
      "cell_type": "code",
      "execution_count": null,
      "metadata": {
        "id": "YYhG6LLH0rsU"
      },
      "outputs": [],
      "source": [
        "import numpy as np\n",
        "import pandas as pd\n",
        "import matplotlib.pyplot as plt"
      ]
    },
    {
      "cell_type": "markdown",
      "metadata": {
        "id": "cvAx5VI00rsV"
      },
      "source": [
        "**1.1 Расчет энтропии распределения классов:**\n",
        "\n",
        "Пусть известно, что в вершину решающего дерева попали 10 объектов, 8 из которых имеют метку класса $k_1$, а 2 имеют метку класса $k_2$."
      ]
    },
    {
      "cell_type": "code",
      "execution_count": null,
      "metadata": {
        "colab": {
          "base_uri": "https://localhost:8080/"
        },
        "id": "-2ggO7Xi0rsV",
        "outputId": "3d5d87a5-6bb8-42b9-8e92-01d8e6ce1978"
      },
      "outputs": [
        {
          "data": {
            "text/plain": [
              "0.5"
            ]
          },
          "execution_count": 2,
          "metadata": {},
          "output_type": "execute_result"
        }
      ],
      "source": [
        "probabilities = np.array([8/10, 2/10])\n",
        "entropy = round(-np.sum(probabilities * np.log(probabilities)), 2)\n",
        "entropy"
      ]
    },
    {
      "cell_type": "markdown",
      "metadata": {
        "id": "5rbWoD960rsV"
      },
      "source": [
        "**1.2 Расчет критерия информативности:**\n",
        "\n",
        "Пусть дополнительно известно, что вершина не является листовой и возможно такое разбиение, что в левое поддерево попадут все объекты класса $k_1$, а в правое - класса $k_2$.\n",
        "\n",
        "Формула критерия информативности:\n",
        "\n",
        "$$\n",
        "Q(R_m, j, t) = H(R_m) - \\frac{|R_\\ell|}{|R_m|}H(R_\\ell) - \\frac{|R_r|}{|R_m|}H(R_r),\n",
        "$$\n",
        "\n",
        "где $R_m$ - множество объектов в разбиваемой вершине, $j$ - номер признака, по которому происходит разбиение, $t$ - порог разбиения, $R_\\ell$ - множество объектов в левом поддереве, $R_r$ - множество объектов в правом поддереве.\n",
        "\n",
        "В качестве $H(R)$ индекс Джини:\n",
        "\n",
        "$$\n",
        "H(R) = \\sum_{k=1}^J p_k(1-p_k),\n",
        "$$\n",
        "где $J$ – общее количество классов."
      ]
    },
    {
      "cell_type": "code",
      "execution_count": null,
      "metadata": {
        "colab": {
          "base_uri": "https://localhost:8080/"
        },
        "id": "HT2o4-yu0rsW",
        "outputId": "cc9aab9b-a123-42c5-e14e-ad0bde2c1842"
      },
      "outputs": [
        {
          "data": {
            "text/plain": [
              "0.32"
            ]
          },
          "execution_count": 3,
          "metadata": {},
          "output_type": "execute_result"
        }
      ],
      "source": [
        "gini_rm = 8/10 * (1 - 8/10) + 2/10 * (1 - 2/10)\n",
        "gini_rl = 8/8 * (1 - 8/8) + 0/8 * (1 - 0/8)                                       # на самом деле можно было не считать критерий джини в левом и правом поддереве\n",
        "gini_rr = 0/2 * (1 - 0/2) + 2/2 * (1 - 2/2)                                       # и так было понятно, что раз в каждое из них попали все объекты каждого класса\n",
        "                                                                                  # то \"хаотичность\" (неопределенность) в каждом из них будет нулевая\n",
        "q = round(gini_rm - 8/10 * gini_rl - 2/10 * gini_rr, 2)\n",
        "q"
      ]
    },
    {
      "cell_type": "code",
      "execution_count": null,
      "metadata": {
        "colab": {
          "base_uri": "https://localhost:8080/"
        },
        "id": "uAsD2pgEBeqd",
        "outputId": "ba4daecb-d788-45ca-94a1-2edc4fa05b74"
      },
      "outputs": [
        {
          "data": {
            "text/plain": [
              "0.32"
            ]
          },
          "execution_count": 4,
          "metadata": {},
          "output_type": "execute_result"
        }
      ],
      "source": [
        "probabilities_rm = np.array([8/10, 2/10])\n",
        "probabilities_rl = np.array([8/8, 0/8])\n",
        "probabilities_rr = np.array([0/2, 2/2])\n",
        "rm, rl, rr = 10, 8, 2\n",
        "\n",
        "def gini(probabilities_r):\n",
        "  return np.sum(probabilities_r * (1 - probabilities_r))\n",
        "\n",
        "q = round(gini(probabilities_rm) - rl/rm * gini(probabilities_rl) - rr/rm * gini(probabilities_rr), 2)\n",
        "q"
      ]
    },
    {
      "cell_type": "markdown",
      "metadata": {
        "id": "fiD2X7Oo0rsW"
      },
      "source": [
        "**1.3 Подсчет предсказаний модели для задачи регрессии:**\n",
        "\n",
        "Пусть при построении дерева образовалась листовая вершина с 10 объектами, значения целевой переменной для которых следующие: [1, 10, 5, 18, 100, 30, 50, 61, 84, 47]."
      ]
    },
    {
      "cell_type": "code",
      "execution_count": null,
      "metadata": {
        "colab": {
          "base_uri": "https://localhost:8080/"
        },
        "id": "wx4bcZaT0rsY",
        "outputId": "f2faa32a-5f3e-4eee-faf4-dc6b0b6fe4a6"
      },
      "outputs": [
        {
          "data": {
            "text/plain": [
              "40.6"
            ]
          },
          "execution_count": 5,
          "metadata": {},
          "output_type": "execute_result"
        }
      ],
      "source": [
        "# предсказание в листовой вершине будет равно среднему значению ответов на объектах, попавших в нее\n",
        "targets = [1, 10, 5, 18, 100, 30, 50, 61, 84, 47]\n",
        "prediction = sum(targets) / len(targets)\n",
        "prediction"
      ]
    },
    {
      "cell_type": "markdown",
      "metadata": {
        "id": "oagpvsYu0rsY"
      },
      "source": [
        "#### 2. Решающие деревья\n",
        "\n",
        "Написание и тестирование собственной реализации решающего дерева."
      ]
    },
    {
      "cell_type": "code",
      "execution_count": null,
      "metadata": {
        "id": "QkStkRqU0rsZ"
      },
      "outputs": [],
      "source": [
        "from collections import Counter\n",
        "from typing import Dict, List, Tuple, Union"
      ]
    },
    {
      "cell_type": "markdown",
      "metadata": {
        "id": "twK7hbbO0rsZ"
      },
      "source": [
        "**2.1 Реализация функции `find_best_split()`, которая находит оптимальное разбиение подмножества обучающей выборки в соответствии с информационным критерием**\n",
        "\n",
        "Для категориальных признаков применяется наивный алгоритм разбиения: пытаемся найти одно значение, разбиение по которому сильнее всего увеличит критерий информативности. Иными словами, объекты с конкретным значением признака отправляем в левое поддерево, остальные - в правое."
      ]
    },
    {
      "cell_type": "code",
      "execution_count": null,
      "metadata": {
        "id": "4dRcbQVtH2Aq"
      },
      "outputs": [],
      "source": [
        "def find_best_split(\n",
        "    feature_vector: Union[np.ndarray, pd.DataFrame],\n",
        "    target_vector: Union[np.ndarray, pd.Series],\n",
        "    task: str = \"classification\",\n",
        "    feature_type: str = \"real\"\n",
        ") -> Tuple[np.ndarray, np.ndarray, float, float]:\n",
        "    \"\"\"\n",
        "    * Пороги, приводящие к попаданию в одно из поддеревьев пустого множества объектов, не рассматриваются.\n",
        "    * При одинаковых приростах Джини или дисперсии выбирается минимальный сплит.\n",
        "\n",
        "    :param feature_vector: вещественнозначный вектор значений признака\n",
        "    :param target_vector: вектор классов объектов,  len(feature_vector) == len(target_vector)\n",
        "    :param task: либо `classification`, либо `regression`\n",
        "    :param feature_type: либо `real`, либо `categorical`\n",
        "\n",
        "    :return thresholds: отсортированный по возрастанию вектор со всеми возможными порогами, по которым объекты можно\n",
        "     разделить на две различные подвыборки, или поддерева\n",
        "    :return ginis: вектор со значениями критерия Джини для каждого из порогов в thresholds len(ginis) == len(thresholds)\n",
        "    :return threshold_best: оптимальный порог (число)\n",
        "    :return gini_best: оптимальное значение критерия Джини (число)\n",
        "    \"\"\"\n",
        "    if np.all(feature_vector == feature_vector[0]):                               # если признак константный, то не буду искать уникальные значения, а просто запомню весь вектор\n",
        "      feature_vector_sorted = feature_vector\n",
        "    else:\n",
        "      feature_vector_sorted = np.sort(np.unique(feature_vector))                  # для поиска порогов отсортирую уникальные значения признака\n",
        "\n",
        "    # сначала найду пороги\n",
        "    if feature_type == 'real':                                                    # для вещественного признака\n",
        "      def thresholds_real(a, b):\n",
        "        return (a + b)/2\n",
        "      vfunc = np.vectorize(thresholds_real)\n",
        "      thresholds = vfunc(feature_vector_sorted[:-1], feature_vector_sorted[1:])   # подсчет средних значений соседних элементов в отсортированном векторе значений признака\n",
        "\n",
        "    elif feature_type == 'categorical':                                           # для категориального признака пороги - сами категории\n",
        "      thresholds = feature_vector_sorted\n",
        "\n",
        "    # далее буду разбивать вершину и считать критерий информативности\n",
        "    def Q(R_m, y_m, task, feature_type, t):\n",
        "\n",
        "    # разобью вершину в зависимости от типа признака\n",
        "      # если признак вещественный\n",
        "      if feature_type == 'real':                                                  # для вещественного признака\n",
        "        R_l, R_r = R_m[R_m < t], R_m[R_m >= t]                                    # разбиваю вектор признака по порогу\n",
        "        y_l, y_r = y_m[R_m < t], y_m[R_m >= t]                                    # в зависимости от разбиения вектора признака разбиваю так же и вектор с ответами\n",
        "\n",
        "      # если признак категориальный\n",
        "      elif feature_type == 'categorical':\n",
        "        R_l, R_r = R_m[R_m == t], R_m[R_m != t]                                   # разбиваю так, что в левой части будет только одна категория\n",
        "        y_l, y_r = y_m[R_m == t], y_m[R_m != t]\n",
        "\n",
        "      # после разбиения посчитаю критерий информативности (в зависимости от задачи)\n",
        "      def H(R, task):\n",
        "        if task == 'regression':                                                  # если задача регрессии, то хаотичность измеряется дисперсией ответов в вершине\n",
        "          return np.var(R)\n",
        "\n",
        "        elif task == 'classification':                                            # если задача классификации, то считаю критерий джини\n",
        "          counter = Counter(R)                                                    # для этого нахожу вероятности классов в вершине\n",
        "          counts = list(counter.values())\n",
        "          def calc_prob(count):\n",
        "            return count/sum(counts)\n",
        "          probabilities = np.array(list(map(calc_prob, counts)))\n",
        "          return np.sum(probabilities * (1 - probabilities))\n",
        "\n",
        "      H_m = H(y_m, task)\n",
        "\n",
        "      H_l = H(y_l, task)\n",
        "      H_r = H(y_r, task)\n",
        "\n",
        "\n",
        "      return H_m - len(R_l) / len(R_m) * H_l - len(R_r) / len(R_m) * H_r\n",
        "\n",
        "    Q_vectorized = np.vectorize(Q, excluded=['R_m', 'y_m'])\n",
        "    ginis = Q_vectorized(R_m=feature_vector, y_m=target_vector, task=task, feature_type=feature_type, t=thresholds)\n",
        "    threshold_best = thresholds[np.argmax(ginis)]\n",
        "    gini_best = max(ginis)\n",
        "    return thresholds, ginis, threshold_best, gini_best"
      ]
    },
    {
      "cell_type": "code",
      "execution_count": null,
      "metadata": {
        "colab": {
          "base_uri": "https://localhost:8080/"
        },
        "id": "u05r19clQJTA",
        "outputId": "da17214a-10aa-402f-af6f-b0b26a2d7caa"
      },
      "outputs": [
        {
          "name": "stdout",
          "output_type": "stream",
          "text": [
            "(array([1.5, 2.5, 3.5, 4.5, 5.5]), array([1.8       , 2.        , 0.11111111, 0.125     , 0.8       ]), 2.5, 2.000000000000001)\n",
            "\n",
            "2.000000000000001\n"
          ]
        }
      ],
      "source": [
        "# сделаю небольшую проверку для двух случаев\n",
        "# 1 случай: задача регрессии с вещественным признаком\n",
        "feature_vector = np.array([3,4,2,5,1,6])\n",
        "target_vector = np.array([1,2,5,3,7,6])\n",
        "print(find_best_split(feature_vector, target_vector, task='regression', feature_type='real'))\n",
        "print()\n",
        "\n",
        "R_m = np.array([3,4,2,5,1,6])\n",
        "y_m = np.array([1,2,5,3,7,6])\n",
        "t = 2.5\n",
        "y_l = np.array([5,7])\n",
        "y_r = np.array([1,2,3,6])\n",
        "print(np.var(y_m) - len(y_l) / len(y_m) * np.var(y_l) - len(y_r) / len(y_m) * np.var(y_r))"
      ]
    },
    {
      "cell_type": "code",
      "execution_count": null,
      "metadata": {
        "colab": {
          "base_uri": "https://localhost:8080/"
        },
        "id": "1yUah9D6YoOf",
        "outputId": "e45b8a59-a725-45f5-c01c-ec4dc45075b8"
      },
      "outputs": [
        {
          "name": "stdout",
          "output_type": "stream",
          "text": [
            "(array([1.5, 2.5, 3.5, 4.5, 5.5]), array([0.17777778, 0.02777778, 0.        , 0.11111111, 0.04444444]), 1.5, 0.1777777777777778)\n",
            "\n",
            "0.1777777777777778\n"
          ]
        }
      ],
      "source": [
        "# 2 случай: задача двухклассовой классификации с вещественным признаком\n",
        "feature_vector = np.array([1,2,3,4,5,6])\n",
        "target_vector = np.array([0,1,1,0,1,1])\n",
        "print(find_best_split(feature_vector, target_vector, task='classification', feature_type='real'))\n",
        "print()\n",
        "\n",
        "R_m = np.array([1,2,3,4,5,6])\n",
        "y_m = np.array([0,1,1,0,1,1])\n",
        "gini_m = 2/6 * (1 - 2/6) + 4/6 * (1 - 4/6)\n",
        "t = 1.5\n",
        "y_l = np.array([0])\n",
        "gini_l = 0\n",
        "y_r = np.array([1,1,0,1,1])\n",
        "gini_r = 1/5 * (1 - 1/5) + 4/5 * (1 - 4/5)\n",
        "print(gini_m - len(y_l) / len(y_m) * gini_l - len(y_r) / len(y_m) * gini_r)"
      ]
    },
    {
      "cell_type": "markdown",
      "metadata": {
        "id": "w4cYVDdJ0rsa"
      },
      "source": [
        "Тестирование функции на датасете `California`."
      ]
    },
    {
      "cell_type": "code",
      "execution_count": null,
      "metadata": {
        "id": "amtQns6Z0rsa"
      },
      "outputs": [],
      "source": [
        "from sklearn.datasets import fetch_california_housing"
      ]
    },
    {
      "cell_type": "code",
      "execution_count": null,
      "metadata": {
        "colab": {
          "base_uri": "https://localhost:8080/",
          "height": 201
        },
        "id": "GfNukFh50rsa",
        "outputId": "4c1842d6-28e4-4748-bdad-fae6a2e01b2e"
      },
      "outputs": [
        {
          "data": {
            "application/vnd.google.colaboratory.intrinsic+json": {
              "summary": "{\n  \"name\": \"X\",\n  \"rows\": 20640,\n  \"fields\": [\n    {\n      \"column\": \"MedInc\",\n      \"properties\": {\n        \"dtype\": \"number\",\n        \"std\": 1.8998217179452688,\n        \"min\": 0.4999,\n        \"max\": 15.0001,\n        \"num_unique_values\": 12928,\n        \"samples\": [\n          5.0286,\n          2.0433,\n          6.1228\n        ],\n        \"semantic_type\": \"\",\n        \"description\": \"\"\n      }\n    },\n    {\n      \"column\": \"HouseAge\",\n      \"properties\": {\n        \"dtype\": \"number\",\n        \"std\": 12.58555761211165,\n        \"min\": 1.0,\n        \"max\": 52.0,\n        \"num_unique_values\": 52,\n        \"samples\": [\n          35.0,\n          25.0,\n          7.0\n        ],\n        \"semantic_type\": \"\",\n        \"description\": \"\"\n      }\n    },\n    {\n      \"column\": \"AveRooms\",\n      \"properties\": {\n        \"dtype\": \"number\",\n        \"std\": 2.4741731394243187,\n        \"min\": 0.8461538461538461,\n        \"max\": 141.9090909090909,\n        \"num_unique_values\": 19392,\n        \"samples\": [\n          6.111269614835948,\n          5.912820512820513,\n          5.7924528301886795\n        ],\n        \"semantic_type\": \"\",\n        \"description\": \"\"\n      }\n    },\n    {\n      \"column\": \"AveBedrms\",\n      \"properties\": {\n        \"dtype\": \"number\",\n        \"std\": 0.473910856795466,\n        \"min\": 0.3333333333333333,\n        \"max\": 34.06666666666667,\n        \"num_unique_values\": 14233,\n        \"samples\": [\n          0.9906542056074766,\n          1.112099644128114,\n          1.0398230088495575\n        ],\n        \"semantic_type\": \"\",\n        \"description\": \"\"\n      }\n    },\n    {\n      \"column\": \"Population\",\n      \"properties\": {\n        \"dtype\": \"number\",\n        \"std\": 1132.462121765341,\n        \"min\": 3.0,\n        \"max\": 35682.0,\n        \"num_unique_values\": 3888,\n        \"samples\": [\n          4169.0,\n          636.0,\n          3367.0\n        ],\n        \"semantic_type\": \"\",\n        \"description\": \"\"\n      }\n    },\n    {\n      \"column\": \"AveOccup\",\n      \"properties\": {\n        \"dtype\": \"number\",\n        \"std\": 10.386049562213618,\n        \"min\": 0.6923076923076923,\n        \"max\": 1243.3333333333333,\n        \"num_unique_values\": 18841,\n        \"samples\": [\n          2.6939799331103678,\n          3.559375,\n          3.297082228116711\n        ],\n        \"semantic_type\": \"\",\n        \"description\": \"\"\n      }\n    },\n    {\n      \"column\": \"Latitude\",\n      \"properties\": {\n        \"dtype\": \"number\",\n        \"std\": 2.1359523974571153,\n        \"min\": 32.54,\n        \"max\": 41.95,\n        \"num_unique_values\": 862,\n        \"samples\": [\n          33.7,\n          34.41,\n          38.24\n        ],\n        \"semantic_type\": \"\",\n        \"description\": \"\"\n      }\n    },\n    {\n      \"column\": \"Longitude\",\n      \"properties\": {\n        \"dtype\": \"number\",\n        \"std\": 2.0035317235025882,\n        \"min\": -124.35,\n        \"max\": -114.31,\n        \"num_unique_values\": 844,\n        \"samples\": [\n          -118.63,\n          -119.86,\n          -121.26\n        ],\n        \"semantic_type\": \"\",\n        \"description\": \"\"\n      }\n    }\n  ]\n}",
              "type": "dataframe",
              "variable_name": "X"
            },
            "text/html": [
              "\n",
              "  <div id=\"df-6430cd85-01a1-4229-93d9-5c15c41e765a\" class=\"colab-df-container\">\n",
              "    <div>\n",
              "<style scoped>\n",
              "    .dataframe tbody tr th:only-of-type {\n",
              "        vertical-align: middle;\n",
              "    }\n",
              "\n",
              "    .dataframe tbody tr th {\n",
              "        vertical-align: top;\n",
              "    }\n",
              "\n",
              "    .dataframe thead th {\n",
              "        text-align: right;\n",
              "    }\n",
              "</style>\n",
              "<table border=\"1\" class=\"dataframe\">\n",
              "  <thead>\n",
              "    <tr style=\"text-align: right;\">\n",
              "      <th></th>\n",
              "      <th>MedInc</th>\n",
              "      <th>HouseAge</th>\n",
              "      <th>AveRooms</th>\n",
              "      <th>AveBedrms</th>\n",
              "      <th>Population</th>\n",
              "      <th>AveOccup</th>\n",
              "      <th>Latitude</th>\n",
              "      <th>Longitude</th>\n",
              "    </tr>\n",
              "  </thead>\n",
              "  <tbody>\n",
              "    <tr>\n",
              "      <th>0</th>\n",
              "      <td>8.3252</td>\n",
              "      <td>41.0</td>\n",
              "      <td>6.984127</td>\n",
              "      <td>1.023810</td>\n",
              "      <td>322.0</td>\n",
              "      <td>2.555556</td>\n",
              "      <td>37.88</td>\n",
              "      <td>-122.23</td>\n",
              "    </tr>\n",
              "    <tr>\n",
              "      <th>1</th>\n",
              "      <td>8.3014</td>\n",
              "      <td>21.0</td>\n",
              "      <td>6.238137</td>\n",
              "      <td>0.971880</td>\n",
              "      <td>2401.0</td>\n",
              "      <td>2.109842</td>\n",
              "      <td>37.86</td>\n",
              "      <td>-122.22</td>\n",
              "    </tr>\n",
              "    <tr>\n",
              "      <th>2</th>\n",
              "      <td>7.2574</td>\n",
              "      <td>52.0</td>\n",
              "      <td>8.288136</td>\n",
              "      <td>1.073446</td>\n",
              "      <td>496.0</td>\n",
              "      <td>2.802260</td>\n",
              "      <td>37.85</td>\n",
              "      <td>-122.24</td>\n",
              "    </tr>\n",
              "    <tr>\n",
              "      <th>3</th>\n",
              "      <td>5.6431</td>\n",
              "      <td>52.0</td>\n",
              "      <td>5.817352</td>\n",
              "      <td>1.073059</td>\n",
              "      <td>558.0</td>\n",
              "      <td>2.547945</td>\n",
              "      <td>37.85</td>\n",
              "      <td>-122.25</td>\n",
              "    </tr>\n",
              "    <tr>\n",
              "      <th>4</th>\n",
              "      <td>3.8462</td>\n",
              "      <td>52.0</td>\n",
              "      <td>6.281853</td>\n",
              "      <td>1.081081</td>\n",
              "      <td>565.0</td>\n",
              "      <td>2.181467</td>\n",
              "      <td>37.85</td>\n",
              "      <td>-122.25</td>\n",
              "    </tr>\n",
              "  </tbody>\n",
              "</table>\n",
              "</div>\n",
              "    <div class=\"colab-df-buttons\">\n",
              "\n",
              "  <div class=\"colab-df-container\">\n",
              "    <button class=\"colab-df-convert\" onclick=\"convertToInteractive('df-6430cd85-01a1-4229-93d9-5c15c41e765a')\"\n",
              "            title=\"Convert this dataframe to an interactive table.\"\n",
              "            style=\"display:none;\">\n",
              "\n",
              "  <svg xmlns=\"http://www.w3.org/2000/svg\" height=\"24px\" viewBox=\"0 -960 960 960\">\n",
              "    <path d=\"M120-120v-720h720v720H120Zm60-500h600v-160H180v160Zm220 220h160v-160H400v160Zm0 220h160v-160H400v160ZM180-400h160v-160H180v160Zm440 0h160v-160H620v160ZM180-180h160v-160H180v160Zm440 0h160v-160H620v160Z\"/>\n",
              "  </svg>\n",
              "    </button>\n",
              "\n",
              "  <style>\n",
              "    .colab-df-container {\n",
              "      display:flex;\n",
              "      gap: 12px;\n",
              "    }\n",
              "\n",
              "    .colab-df-convert {\n",
              "      background-color: #E8F0FE;\n",
              "      border: none;\n",
              "      border-radius: 50%;\n",
              "      cursor: pointer;\n",
              "      display: none;\n",
              "      fill: #1967D2;\n",
              "      height: 32px;\n",
              "      padding: 0 0 0 0;\n",
              "      width: 32px;\n",
              "    }\n",
              "\n",
              "    .colab-df-convert:hover {\n",
              "      background-color: #E2EBFA;\n",
              "      box-shadow: 0px 1px 2px rgba(60, 64, 67, 0.3), 0px 1px 3px 1px rgba(60, 64, 67, 0.15);\n",
              "      fill: #174EA6;\n",
              "    }\n",
              "\n",
              "    .colab-df-buttons div {\n",
              "      margin-bottom: 4px;\n",
              "    }\n",
              "\n",
              "    [theme=dark] .colab-df-convert {\n",
              "      background-color: #3B4455;\n",
              "      fill: #D2E3FC;\n",
              "    }\n",
              "\n",
              "    [theme=dark] .colab-df-convert:hover {\n",
              "      background-color: #434B5C;\n",
              "      box-shadow: 0px 1px 3px 1px rgba(0, 0, 0, 0.15);\n",
              "      filter: drop-shadow(0px 1px 2px rgba(0, 0, 0, 0.3));\n",
              "      fill: #FFFFFF;\n",
              "    }\n",
              "  </style>\n",
              "\n",
              "    <script>\n",
              "      const buttonEl =\n",
              "        document.querySelector('#df-6430cd85-01a1-4229-93d9-5c15c41e765a button.colab-df-convert');\n",
              "      buttonEl.style.display =\n",
              "        google.colab.kernel.accessAllowed ? 'block' : 'none';\n",
              "\n",
              "      async function convertToInteractive(key) {\n",
              "        const element = document.querySelector('#df-6430cd85-01a1-4229-93d9-5c15c41e765a');\n",
              "        const dataTable =\n",
              "          await google.colab.kernel.invokeFunction('convertToInteractive',\n",
              "                                                    [key], {});\n",
              "        if (!dataTable) return;\n",
              "\n",
              "        const docLinkHtml = 'Like what you see? Visit the ' +\n",
              "          '<a target=\"_blank\" href=https://colab.research.google.com/notebooks/data_table.ipynb>data table notebook</a>'\n",
              "          + ' to learn more about interactive tables.';\n",
              "        element.innerHTML = '';\n",
              "        dataTable['output_type'] = 'display_data';\n",
              "        await google.colab.output.renderOutput(dataTable, element);\n",
              "        const docLink = document.createElement('div');\n",
              "        docLink.innerHTML = docLinkHtml;\n",
              "        element.appendChild(docLink);\n",
              "      }\n",
              "    </script>\n",
              "  </div>\n",
              "\n",
              "\n",
              "<div id=\"df-3c4ac1d5-4ce2-41d9-adf0-2e7b27255e95\">\n",
              "  <button class=\"colab-df-quickchart\" onclick=\"quickchart('df-3c4ac1d5-4ce2-41d9-adf0-2e7b27255e95')\"\n",
              "            title=\"Suggest charts\"\n",
              "            style=\"display:none;\">\n",
              "\n",
              "<svg xmlns=\"http://www.w3.org/2000/svg\" height=\"24px\"viewBox=\"0 0 24 24\"\n",
              "     width=\"24px\">\n",
              "    <g>\n",
              "        <path d=\"M19 3H5c-1.1 0-2 .9-2 2v14c0 1.1.9 2 2 2h14c1.1 0 2-.9 2-2V5c0-1.1-.9-2-2-2zM9 17H7v-7h2v7zm4 0h-2V7h2v10zm4 0h-2v-4h2v4z\"/>\n",
              "    </g>\n",
              "</svg>\n",
              "  </button>\n",
              "\n",
              "<style>\n",
              "  .colab-df-quickchart {\n",
              "      --bg-color: #E8F0FE;\n",
              "      --fill-color: #1967D2;\n",
              "      --hover-bg-color: #E2EBFA;\n",
              "      --hover-fill-color: #174EA6;\n",
              "      --disabled-fill-color: #AAA;\n",
              "      --disabled-bg-color: #DDD;\n",
              "  }\n",
              "\n",
              "  [theme=dark] .colab-df-quickchart {\n",
              "      --bg-color: #3B4455;\n",
              "      --fill-color: #D2E3FC;\n",
              "      --hover-bg-color: #434B5C;\n",
              "      --hover-fill-color: #FFFFFF;\n",
              "      --disabled-bg-color: #3B4455;\n",
              "      --disabled-fill-color: #666;\n",
              "  }\n",
              "\n",
              "  .colab-df-quickchart {\n",
              "    background-color: var(--bg-color);\n",
              "    border: none;\n",
              "    border-radius: 50%;\n",
              "    cursor: pointer;\n",
              "    display: none;\n",
              "    fill: var(--fill-color);\n",
              "    height: 32px;\n",
              "    padding: 0;\n",
              "    width: 32px;\n",
              "  }\n",
              "\n",
              "  .colab-df-quickchart:hover {\n",
              "    background-color: var(--hover-bg-color);\n",
              "    box-shadow: 0 1px 2px rgba(60, 64, 67, 0.3), 0 1px 3px 1px rgba(60, 64, 67, 0.15);\n",
              "    fill: var(--button-hover-fill-color);\n",
              "  }\n",
              "\n",
              "  .colab-df-quickchart-complete:disabled,\n",
              "  .colab-df-quickchart-complete:disabled:hover {\n",
              "    background-color: var(--disabled-bg-color);\n",
              "    fill: var(--disabled-fill-color);\n",
              "    box-shadow: none;\n",
              "  }\n",
              "\n",
              "  .colab-df-spinner {\n",
              "    border: 2px solid var(--fill-color);\n",
              "    border-color: transparent;\n",
              "    border-bottom-color: var(--fill-color);\n",
              "    animation:\n",
              "      spin 1s steps(1) infinite;\n",
              "  }\n",
              "\n",
              "  @keyframes spin {\n",
              "    0% {\n",
              "      border-color: transparent;\n",
              "      border-bottom-color: var(--fill-color);\n",
              "      border-left-color: var(--fill-color);\n",
              "    }\n",
              "    20% {\n",
              "      border-color: transparent;\n",
              "      border-left-color: var(--fill-color);\n",
              "      border-top-color: var(--fill-color);\n",
              "    }\n",
              "    30% {\n",
              "      border-color: transparent;\n",
              "      border-left-color: var(--fill-color);\n",
              "      border-top-color: var(--fill-color);\n",
              "      border-right-color: var(--fill-color);\n",
              "    }\n",
              "    40% {\n",
              "      border-color: transparent;\n",
              "      border-right-color: var(--fill-color);\n",
              "      border-top-color: var(--fill-color);\n",
              "    }\n",
              "    60% {\n",
              "      border-color: transparent;\n",
              "      border-right-color: var(--fill-color);\n",
              "    }\n",
              "    80% {\n",
              "      border-color: transparent;\n",
              "      border-right-color: var(--fill-color);\n",
              "      border-bottom-color: var(--fill-color);\n",
              "    }\n",
              "    90% {\n",
              "      border-color: transparent;\n",
              "      border-bottom-color: var(--fill-color);\n",
              "    }\n",
              "  }\n",
              "</style>\n",
              "\n",
              "  <script>\n",
              "    async function quickchart(key) {\n",
              "      const quickchartButtonEl =\n",
              "        document.querySelector('#' + key + ' button');\n",
              "      quickchartButtonEl.disabled = true;  // To prevent multiple clicks.\n",
              "      quickchartButtonEl.classList.add('colab-df-spinner');\n",
              "      try {\n",
              "        const charts = await google.colab.kernel.invokeFunction(\n",
              "            'suggestCharts', [key], {});\n",
              "      } catch (error) {\n",
              "        console.error('Error during call to suggestCharts:', error);\n",
              "      }\n",
              "      quickchartButtonEl.classList.remove('colab-df-spinner');\n",
              "      quickchartButtonEl.classList.add('colab-df-quickchart-complete');\n",
              "    }\n",
              "    (() => {\n",
              "      let quickchartButtonEl =\n",
              "        document.querySelector('#df-3c4ac1d5-4ce2-41d9-adf0-2e7b27255e95 button');\n",
              "      quickchartButtonEl.style.display =\n",
              "        google.colab.kernel.accessAllowed ? 'block' : 'none';\n",
              "    })();\n",
              "  </script>\n",
              "</div>\n",
              "    </div>\n",
              "  </div>\n"
            ],
            "text/plain": [
              "   MedInc  HouseAge  AveRooms  AveBedrms  Population  AveOccup  Latitude  \\\n",
              "0  8.3252      41.0  6.984127   1.023810       322.0  2.555556     37.88   \n",
              "1  8.3014      21.0  6.238137   0.971880      2401.0  2.109842     37.86   \n",
              "2  7.2574      52.0  8.288136   1.073446       496.0  2.802260     37.85   \n",
              "3  5.6431      52.0  5.817352   1.073059       558.0  2.547945     37.85   \n",
              "4  3.8462      52.0  6.281853   1.081081       565.0  2.181467     37.85   \n",
              "\n",
              "   Longitude  \n",
              "0    -122.23  \n",
              "1    -122.22  \n",
              "2    -122.24  \n",
              "3    -122.25  \n",
              "4    -122.25  "
            ]
          },
          "execution_count": 11,
          "metadata": {},
          "output_type": "execute_result"
        }
      ],
      "source": [
        "data = fetch_california_housing()\n",
        "X = pd.DataFrame(data=data[\"data\"], columns=data[\"feature_names\"])\n",
        "y = data[\"target\"]\n",
        "X.head()"
      ]
    },
    {
      "cell_type": "code",
      "execution_count": null,
      "metadata": {
        "colab": {
          "base_uri": "https://localhost:8080/"
        },
        "id": "S1hWoG-D0rsb",
        "outputId": "f6ed970c-43fc-40a5-c173-be4ace810042"
      },
      "outputs": [
        {
          "data": {
            "text/plain": [
              "array([4.526, 3.585, 3.521, ..., 0.923, 0.847, 0.894])"
            ]
          },
          "execution_count": 12,
          "metadata": {},
          "output_type": "execute_result"
        }
      ],
      "source": [
        "y"
      ]
    },
    {
      "cell_type": "markdown",
      "metadata": {
        "id": "CJKUECh50rsb"
      },
      "source": [
        "Построение графика зависимости значения критерия ошибки от порогового значения при разбиении вершины по признаку `MedInc`."
      ]
    },
    {
      "cell_type": "code",
      "execution_count": null,
      "metadata": {
        "id": "h4IBvGvx0rsb"
      },
      "outputs": [],
      "source": [
        "thresholds, Q_array, threshold_best, Q_best = find_best_split(X['MedInc'], y, task='regression')"
      ]
    },
    {
      "cell_type": "code",
      "execution_count": null,
      "metadata": {
        "colab": {
          "base_uri": "https://localhost:8080/"
        },
        "id": "V0sCVZjGlJ-v",
        "outputId": "69438b35-02d9-47a9-9a8f-4578406e723e"
      },
      "outputs": [
        {
          "name": "stdout",
          "output_type": "stream",
          "text": [
            "[ 0.51795  0.54275  0.5964  ... 14.7421  14.95045 15.00005]\n",
            "[0.0001088  0.0001856  0.0002249  ... 0.0199786  0.01956096 0.01872587]\n",
            "5.03515\n",
            "0.4127513862016769\n"
          ]
        }
      ],
      "source": [
        "print(thresholds)\n",
        "print(Q_array)\n",
        "print(threshold_best)\n",
        "print(Q_best)"
      ]
    },
    {
      "cell_type": "code",
      "execution_count": null,
      "metadata": {
        "colab": {
          "base_uri": "https://localhost:8080/",
          "height": 485
        },
        "id": "bzcCF7jf_E86",
        "outputId": "5c9fbd94-45d2-4ff2-d4b8-92b4e15204b5"
      },
      "outputs": [
        {
          "data": {
            "image/png": "[encoded data removed]",
            "text/plain": [
              "<Figure size 1200x500 with 1 Axes>"
            ]
          },
          "metadata": {},
          "output_type": "display_data"
        }
      ],
      "source": [
        "plt.figure(figsize=(12, 5))\n",
        "plt.plot(thresholds, Q_array)\n",
        "plt.title('График зависимости значения критерия информативности от порогового значения')\n",
        "plt.xlabel(\"threshold\")\n",
        "plt.ylabel(\"Q\")\n",
        "plt.show()"
      ]
    },
    {
      "cell_type": "markdown",
      "metadata": {
        "id": "0lFClLDF0rsb"
      },
      "source": [
        "Поиск лучшего предиката первой вершины решающего дерева."
      ]
    },
    {
      "cell_type": "code",
      "execution_count": null,
      "metadata": {
        "id": "tN0Mlvtvl94G"
      },
      "outputs": [],
      "source": [
        "splits = X.apply(find_best_split, axis=0, args=(y, 'regression'))"
      ]
    },
    {
      "cell_type": "code",
      "execution_count": null,
      "metadata": {
        "colab": {
          "base_uri": "https://localhost:8080/",
          "height": 236
        },
        "id": "_wvqehxbvxbe",
        "outputId": "34210897-61a1-45aa-8053-adb49011fee8"
      },
      "outputs": [
        {
          "data": {
            "application/vnd.google.colaboratory.intrinsic+json": {
              "summary": "{\n  \"name\": \"splits\",\n  \"rows\": 4,\n  \"fields\": [\n    {\n      \"column\": \"MedInc\",\n      \"properties\": {\n        \"dtype\": \"object\",\n        \"semantic_type\": \"\",\n        \"description\": \"\"\n      }\n    },\n    {\n      \"column\": \"HouseAge\",\n      \"properties\": {\n        \"dtype\": \"object\",\n        \"semantic_type\": \"\",\n        \"description\": \"\"\n      }\n    },\n    {\n      \"column\": \"AveRooms\",\n      \"properties\": {\n        \"dtype\": \"object\",\n        \"semantic_type\": \"\",\n        \"description\": \"\"\n      }\n    },\n    {\n      \"column\": \"AveBedrms\",\n      \"properties\": {\n        \"dtype\": \"object\",\n        \"semantic_type\": \"\",\n        \"description\": \"\"\n      }\n    },\n    {\n      \"column\": \"Population\",\n      \"properties\": {\n        \"dtype\": \"object\",\n        \"semantic_type\": \"\",\n        \"description\": \"\"\n      }\n    },\n    {\n      \"column\": \"AveOccup\",\n      \"properties\": {\n        \"dtype\": \"object\",\n        \"semantic_type\": \"\",\n        \"description\": \"\"\n      }\n    },\n    {\n      \"column\": \"Latitude\",\n      \"properties\": {\n        \"dtype\": \"object\",\n        \"semantic_type\": \"\",\n        \"description\": \"\"\n      }\n    },\n    {\n      \"column\": \"Longitude\",\n      \"properties\": {\n        \"dtype\": \"object\",\n        \"semantic_type\": \"\",\n        \"description\": \"\"\n      }\n    }\n  ]\n}",
              "type": "dataframe",
              "variable_name": "splits"
            },
            "text/html": [
              "\n",
              "  <div id=\"df-924dc1d1-b83c-4d0d-8edc-6ea30f93d95a\" class=\"colab-df-container\">\n",
              "    <div>\n",
              "<style scoped>\n",
              "    .dataframe tbody tr th:only-of-type {\n",
              "        vertical-align: middle;\n",
              "    }\n",
              "\n",
              "    .dataframe tbody tr th {\n",
              "        vertical-align: top;\n",
              "    }\n",
              "\n",
              "    .dataframe thead th {\n",
              "        text-align: right;\n",
              "    }\n",
              "</style>\n",
              "<table border=\"1\" class=\"dataframe\">\n",
              "  <thead>\n",
              "    <tr style=\"text-align: right;\">\n",
              "      <th></th>\n",
              "      <th>MedInc</th>\n",
              "      <th>HouseAge</th>\n",
              "      <th>AveRooms</th>\n",
              "      <th>AveBedrms</th>\n",
              "      <th>Population</th>\n",
              "      <th>AveOccup</th>\n",
              "      <th>Latitude</th>\n",
              "      <th>Longitude</th>\n",
              "    </tr>\n",
              "  </thead>\n",
              "  <tbody>\n",
              "    <tr>\n",
              "      <th>0</th>\n",
              "      <td>[0.51795, 0.5427500000000001, 0.5964, 0.6604, ...</td>\n",
              "      <td>[1.5, 2.5, 3.5, 4.5, 5.5, 6.5, 7.5, 8.5, 9.5, ...</td>\n",
              "      <td>[0.8675213675213675, 0.9444444444444444, 1.065...</td>\n",
              "      <td>[0.35416666666666663, 0.4097222222222222, 0.47...</td>\n",
              "      <td>[4.0, 5.5, 7.0, 8.5, 10.0, 12.0, 13.5, 14.5, 1...</td>\n",
              "      <td>[0.7211538461538461, 0.8602941176470589, 1.015...</td>\n",
              "      <td>[32.545, 32.555, 32.565, 32.575, 32.585, 32.59...</td>\n",
              "      <td>[-124.32499999999999, -124.285, -124.265, -124...</td>\n",
              "    </tr>\n",
              "    <tr>\n",
              "      <th>1</th>\n",
              "      <td>[0.00010880339847707532, 0.0001855959365471005...</td>\n",
              "      <td>[7.585249523445192e-05, 4.668203886115663e-05,...</td>\n",
              "      <td>[9.532625096619896e-06, 4.6615266393157384e-05...</td>\n",
              "      <td>[2.2499295940558994e-05, 3.0005573329550117e-0...</td>\n",
              "      <td>[9.927931175335303e-05, 0.00010815673438302476...</td>\n",
              "      <td>[7.432658259709513e-05, 9.01349621829084e-07, ...</td>\n",
              "      <td>[9.409391785619725e-05, 0.0002071640493266358,...</td>\n",
              "      <td>[6.105609976225779e-05, 0.00018296853368338084...</td>\n",
              "    </tr>\n",
              "    <tr>\n",
              "      <th>2</th>\n",
              "      <td>5.03515</td>\n",
              "      <td>51.5</td>\n",
              "      <td>6.374305</td>\n",
              "      <td>1.103378</td>\n",
              "      <td>1160.5</td>\n",
              "      <td>3.112543</td>\n",
              "      <td>37.935</td>\n",
              "      <td>-121.865</td>\n",
              "    </tr>\n",
              "    <tr>\n",
              "      <th>3</th>\n",
              "      <td>0.412751</td>\n",
              "      <td>0.030901</td>\n",
              "      <td>0.159208</td>\n",
              "      <td>0.015253</td>\n",
              "      <td>0.002831</td>\n",
              "      <td>0.073919</td>\n",
              "      <td>0.090334</td>\n",
              "      <td>0.050211</td>\n",
              "    </tr>\n",
              "  </tbody>\n",
              "</table>\n",
              "</div>\n",
              "    <div class=\"colab-df-buttons\">\n",
              "\n",
              "  <div class=\"colab-df-container\">\n",
              "    <button class=\"colab-df-convert\" onclick=\"convertToInteractive('df-924dc1d1-b83c-4d0d-8edc-6ea30f93d95a')\"\n",
              "            title=\"Convert this dataframe to an interactive table.\"\n",
              "            style=\"display:none;\">\n",
              "\n",
              "  <svg xmlns=\"http://www.w3.org/2000/svg\" height=\"24px\" viewBox=\"0 -960 960 960\">\n",
              "    <path d=\"M120-120v-720h720v720H120Zm60-500h600v-160H180v160Zm220 220h160v-160H400v160Zm0 220h160v-160H400v160ZM180-400h160v-160H180v160Zm440 0h160v-160H620v160ZM180-180h160v-160H180v160Zm440 0h160v-160H620v160Z\"/>\n",
              "  </svg>\n",
              "    </button>\n",
              "\n",
              "  <style>\n",
              "    .colab-df-container {\n",
              "      display:flex;\n",
              "      gap: 12px;\n",
              "    }\n",
              "\n",
              "    .colab-df-convert {\n",
              "      background-color: #E8F0FE;\n",
              "      border: none;\n",
              "      border-radius: 50%;\n",
              "      cursor: pointer;\n",
              "      display: none;\n",
              "      fill: #1967D2;\n",
              "      height: 32px;\n",
              "      padding: 0 0 0 0;\n",
              "      width: 32px;\n",
              "    }\n",
              "\n",
              "    .colab-df-convert:hover {\n",
              "      background-color: #E2EBFA;\n",
              "      box-shadow: 0px 1px 2px rgba(60, 64, 67, 0.3), 0px 1px 3px 1px rgba(60, 64, 67, 0.15);\n",
              "      fill: #174EA6;\n",
              "    }\n",
              "\n",
              "    .colab-df-buttons div {\n",
              "      margin-bottom: 4px;\n",
              "    }\n",
              "\n",
              "    [theme=dark] .colab-df-convert {\n",
              "      background-color: #3B4455;\n",
              "      fill: #D2E3FC;\n",
              "    }\n",
              "\n",
              "    [theme=dark] .colab-df-convert:hover {\n",
              "      background-color: #434B5C;\n",
              "      box-shadow: 0px 1px 3px 1px rgba(0, 0, 0, 0.15);\n",
              "      filter: drop-shadow(0px 1px 2px rgba(0, 0, 0, 0.3));\n",
              "      fill: #FFFFFF;\n",
              "    }\n",
              "  </style>\n",
              "\n",
              "    <script>\n",
              "      const buttonEl =\n",
              "        document.querySelector('#df-924dc1d1-b83c-4d0d-8edc-6ea30f93d95a button.colab-df-convert');\n",
              "      buttonEl.style.display =\n",
              "        google.colab.kernel.accessAllowed ? 'block' : 'none';\n",
              "\n",
              "      async function convertToInteractive(key) {\n",
              "        const element = document.querySelector('#df-924dc1d1-b83c-4d0d-8edc-6ea30f93d95a');\n",
              "        const dataTable =\n",
              "          await google.colab.kernel.invokeFunction('convertToInteractive',\n",
              "                                                    [key], {});\n",
              "        if (!dataTable) return;\n",
              "\n",
              "        const docLinkHtml = 'Like what you see? Visit the ' +\n",
              "          '<a target=\"_blank\" href=https://colab.research.google.com/notebooks/data_table.ipynb>data table notebook</a>'\n",
              "          + ' to learn more about interactive tables.';\n",
              "        element.innerHTML = '';\n",
              "        dataTable['output_type'] = 'display_data';\n",
              "        await google.colab.output.renderOutput(dataTable, element);\n",
              "        const docLink = document.createElement('div');\n",
              "        docLink.innerHTML = docLinkHtml;\n",
              "        element.appendChild(docLink);\n",
              "      }\n",
              "    </script>\n",
              "  </div>\n",
              "\n",
              "\n",
              "<div id=\"df-5086951e-2a1e-4eb5-baae-1aebb62b1dbb\">\n",
              "  <button class=\"colab-df-quickchart\" onclick=\"quickchart('df-5086951e-2a1e-4eb5-baae-1aebb62b1dbb')\"\n",
              "            title=\"Suggest charts\"\n",
              "            style=\"display:none;\">\n",
              "\n",
              "<svg xmlns=\"http://www.w3.org/2000/svg\" height=\"24px\"viewBox=\"0 0 24 24\"\n",
              "     width=\"24px\">\n",
              "    <g>\n",
              "        <path d=\"M19 3H5c-1.1 0-2 .9-2 2v14c0 1.1.9 2 2 2h14c1.1 0 2-.9 2-2V5c0-1.1-.9-2-2-2zM9 17H7v-7h2v7zm4 0h-2V7h2v10zm4 0h-2v-4h2v4z\"/>\n",
              "    </g>\n",
              "</svg>\n",
              "  </button>\n",
              "\n",
              "<style>\n",
              "  .colab-df-quickchart {\n",
              "      --bg-color: #E8F0FE;\n",
              "      --fill-color: #1967D2;\n",
              "      --hover-bg-color: #E2EBFA;\n",
              "      --hover-fill-color: #174EA6;\n",
              "      --disabled-fill-color: #AAA;\n",
              "      --disabled-bg-color: #DDD;\n",
              "  }\n",
              "\n",
              "  [theme=dark] .colab-df-quickchart {\n",
              "      --bg-color: #3B4455;\n",
              "      --fill-color: #D2E3FC;\n",
              "      --hover-bg-color: #434B5C;\n",
              "      --hover-fill-color: #FFFFFF;\n",
              "      --disabled-bg-color: #3B4455;\n",
              "      --disabled-fill-color: #666;\n",
              "  }\n",
              "\n",
              "  .colab-df-quickchart {\n",
              "    background-color: var(--bg-color);\n",
              "    border: none;\n",
              "    border-radius: 50%;\n",
              "    cursor: pointer;\n",
              "    display: none;\n",
              "    fill: var(--fill-color);\n",
              "    height: 32px;\n",
              "    padding: 0;\n",
              "    width: 32px;\n",
              "  }\n",
              "\n",
              "  .colab-df-quickchart:hover {\n",
              "    background-color: var(--hover-bg-color);\n",
              "    box-shadow: 0 1px 2px rgba(60, 64, 67, 0.3), 0 1px 3px 1px rgba(60, 64, 67, 0.15);\n",
              "    fill: var(--button-hover-fill-color);\n",
              "  }\n",
              "\n",
              "  .colab-df-quickchart-complete:disabled,\n",
              "  .colab-df-quickchart-complete:disabled:hover {\n",
              "    background-color: var(--disabled-bg-color);\n",
              "    fill: var(--disabled-fill-color);\n",
              "    box-shadow: none;\n",
              "  }\n",
              "\n",
              "  .colab-df-spinner {\n",
              "    border: 2px solid var(--fill-color);\n",
              "    border-color: transparent;\n",
              "    border-bottom-color: var(--fill-color);\n",
              "    animation:\n",
              "      spin 1s steps(1) infinite;\n",
              "  }\n",
              "\n",
              "  @keyframes spin {\n",
              "    0% {\n",
              "      border-color: transparent;\n",
              "      border-bottom-color: var(--fill-color);\n",
              "      border-left-color: var(--fill-color);\n",
              "    }\n",
              "    20% {\n",
              "      border-color: transparent;\n",
              "      border-left-color: var(--fill-color);\n",
              "      border-top-color: var(--fill-color);\n",
              "    }\n",
              "    30% {\n",
              "      border-color: transparent;\n",
              "      border-left-color: var(--fill-color);\n",
              "      border-top-color: var(--fill-color);\n",
              "      border-right-color: var(--fill-color);\n",
              "    }\n",
              "    40% {\n",
              "      border-color: transparent;\n",
              "      border-right-color: var(--fill-color);\n",
              "      border-top-color: var(--fill-color);\n",
              "    }\n",
              "    60% {\n",
              "      border-color: transparent;\n",
              "      border-right-color: var(--fill-color);\n",
              "    }\n",
              "    80% {\n",
              "      border-color: transparent;\n",
              "      border-right-color: var(--fill-color);\n",
              "      border-bottom-color: var(--fill-color);\n",
              "    }\n",
              "    90% {\n",
              "      border-color: transparent;\n",
              "      border-bottom-color: var(--fill-color);\n",
              "    }\n",
              "  }\n",
              "</style>\n",
              "\n",
              "  <script>\n",
              "    async function quickchart(key) {\n",
              "      const quickchartButtonEl =\n",
              "        document.querySelector('#' + key + ' button');\n",
              "      quickchartButtonEl.disabled = true;  // To prevent multiple clicks.\n",
              "      quickchartButtonEl.classList.add('colab-df-spinner');\n",
              "      try {\n",
              "        const charts = await google.colab.kernel.invokeFunction(\n",
              "            'suggestCharts', [key], {});\n",
              "      } catch (error) {\n",
              "        console.error('Error during call to suggestCharts:', error);\n",
              "      }\n",
              "      quickchartButtonEl.classList.remove('colab-df-spinner');\n",
              "      quickchartButtonEl.classList.add('colab-df-quickchart-complete');\n",
              "    }\n",
              "    (() => {\n",
              "      let quickchartButtonEl =\n",
              "        document.querySelector('#df-5086951e-2a1e-4eb5-baae-1aebb62b1dbb button');\n",
              "      quickchartButtonEl.style.display =\n",
              "        google.colab.kernel.accessAllowed ? 'block' : 'none';\n",
              "    })();\n",
              "  </script>\n",
              "</div>\n",
              "    </div>\n",
              "  </div>\n"
            ],
            "text/plain": [
              "                                              MedInc  \\\n",
              "0  [0.51795, 0.5427500000000001, 0.5964, 0.6604, ...   \n",
              "1  [0.00010880339847707532, 0.0001855959365471005...   \n",
              "2                                            5.03515   \n",
              "3                                           0.412751   \n",
              "\n",
              "                                            HouseAge  \\\n",
              "0  [1.5, 2.5, 3.5, 4.5, 5.5, 6.5, 7.5, 8.5, 9.5, ...   \n",
              "1  [7.585249523445192e-05, 4.668203886115663e-05,...   \n",
              "2                                               51.5   \n",
              "3                                           0.030901   \n",
              "\n",
              "                                            AveRooms  \\\n",
              "0  [0.8675213675213675, 0.9444444444444444, 1.065...   \n",
              "1  [9.532625096619896e-06, 4.6615266393157384e-05...   \n",
              "2                                           6.374305   \n",
              "3                                           0.159208   \n",
              "\n",
              "                                           AveBedrms  \\\n",
              "0  [0.35416666666666663, 0.4097222222222222, 0.47...   \n",
              "1  [2.2499295940558994e-05, 3.0005573329550117e-0...   \n",
              "2                                           1.103378   \n",
              "3                                           0.015253   \n",
              "\n",
              "                                          Population  \\\n",
              "0  [4.0, 5.5, 7.0, 8.5, 10.0, 12.0, 13.5, 14.5, 1...   \n",
              "1  [9.927931175335303e-05, 0.00010815673438302476...   \n",
              "2                                             1160.5   \n",
              "3                                           0.002831   \n",
              "\n",
              "                                            AveOccup  \\\n",
              "0  [0.7211538461538461, 0.8602941176470589, 1.015...   \n",
              "1  [7.432658259709513e-05, 9.01349621829084e-07, ...   \n",
              "2                                           3.112543   \n",
              "3                                           0.073919   \n",
              "\n",
              "                                            Latitude  \\\n",
              "0  [32.545, 32.555, 32.565, 32.575, 32.585, 32.59...   \n",
              "1  [9.409391785619725e-05, 0.0002071640493266358,...   \n",
              "2                                             37.935   \n",
              "3                                           0.090334   \n",
              "\n",
              "                                           Longitude  \n",
              "0  [-124.32499999999999, -124.285, -124.265, -124...  \n",
              "1  [6.105609976225779e-05, 0.00018296853368338084...  \n",
              "2                                           -121.865  \n",
              "3                                           0.050211  "
            ]
          },
          "execution_count": 17,
          "metadata": {},
          "output_type": "execute_result"
        }
      ],
      "source": [
        "splits"
      ]
    },
    {
      "cell_type": "code",
      "execution_count": null,
      "metadata": {
        "id": "RH03M7KPcJXF"
      },
      "outputs": [],
      "source": [
        "features = splits.columns.to_list()\n",
        "thresholds = splits.loc[2].values\n",
        "Q_array = splits.loc[3].values"
      ]
    },
    {
      "cell_type": "code",
      "execution_count": null,
      "metadata": {
        "colab": {
          "base_uri": "https://localhost:8080/"
        },
        "id": "GdIKeRJwc8_R",
        "outputId": "e975a122-dcb4-43c2-a6ef-e8545757d045"
      },
      "outputs": [
        {
          "name": "stdout",
          "output_type": "stream",
          "text": [
            "Лучший критерий информативности: 0.4127513862016769\n",
            "Лучший порог: 5.03515\n",
            "Лучший признак: MedInc\n"
          ]
        }
      ],
      "source": [
        "Q_best = Q_array[np.argmax(Q_array)]\n",
        "threshold_best = thresholds[np.argmax(Q_array)]\n",
        "feature_best = features[np.argmax(Q_array)]\n",
        "print('Лучший критерий информативности:', Q_best)\n",
        "print('Лучший порог:', threshold_best)\n",
        "print('Лучший признак:', feature_best)\n",
        "\n",
        "# лучший предикат [X['MedInc'] < 5.03515]"
      ]
    },
    {
      "cell_type": "markdown",
      "metadata": {
        "id": "RmrkHAAG0rsc"
      },
      "source": [
        "**2.2 Реализация класса решающего дерева**\n",
        "\n",
        "Построение дерева осуществляется согласно базовому жадному алгоритму.\n",
        "- **Выбор лучшего разбиения** производится по критерию Джини.\n",
        "- **Критерий останова:** все объекты в листе относятся к одному классу или ни по одному признаку нельзя разбить выборку.\n",
        "- **Ответ в листе:** наиболее часто встречающийся класс в листе."
      ]
    },
    {
      "cell_type": "code",
      "execution_count": null,
      "metadata": {
        "id": "oUgAKmPm0rsc"
      },
      "outputs": [],
      "source": [
        "class DecisionTree:\n",
        "\n",
        "    def __init__(\n",
        "        self,\n",
        "        feature_types: Union[List[str], np.ndarray],\n",
        "        max_depth: int = None,\n",
        "        min_samples_split: int = None,\n",
        "        min_samples_leaf: int = None,\n",
        "        task: str = \"classification\"\n",
        "    ) -> None:\n",
        "\n",
        "        if np.any(list(map(lambda x: x != \"real\" and x != \"categorical\", feature_types))):\n",
        "            raise ValueError(\"There is unknown feature type\")\n",
        "\n",
        "        # В этой переменной будем хранить узлы решающего дерева. Каждая вершина хранит в себе идентификатор того,\n",
        "        # является ли она листовой. Листовые вершины хранят значение класса для предсказания, нелистовые - правого и\n",
        "        # левого детей (поддеревья для продолжения процедуры предсказания)\n",
        "        self._tree = {}\n",
        "\n",
        "        # типы признаков (категориальные или числовые)\n",
        "        self._feature_types = feature_types\n",
        "\n",
        "        # гиперпараметры дерева\n",
        "        self._max_depth = max_depth\n",
        "        self._min_samples_split = min_samples_split\n",
        "        self._min_samples_leaf = min_samples_leaf\n",
        "        self.task = task\n",
        "\n",
        "\n",
        "    def _fit_node(\n",
        "        self,\n",
        "        sub_X: np.ndarray,\n",
        "        sub_y: np.ndarray,\n",
        "        node: dict\n",
        "    ) -> None:\n",
        "\n",
        "        # критерий останова\n",
        "        if np.all(sub_y == sub_y[0]):\n",
        "            node[\"type\"] = \"terminal\"\n",
        "            node[\"class\"] = sub_y[0]\n",
        "            return\n",
        "\n",
        "        feature_best, threshold_best, gini_best, split = None, None, None, None\n",
        "        for feature in range(sub_X.shape[1]):\n",
        "            feature_type = self._feature_types[feature]\n",
        "            categories_map = {}\n",
        "\n",
        "            # подготавливаем признак для поиска оптимального порога\n",
        "            if feature_type == \"real\":\n",
        "                feature_vector = sub_X[:, feature]\n",
        "            elif feature_type == \"categorical\":\n",
        "                # здесь могла быть реализация более сложного подхода к обработке категориального признака\n",
        "                feature_vector = sub_X[:, feature]\n",
        "\n",
        "            # ищем оптимальный порог\n",
        "            _, _, threshold, gini = find_best_split(feature_vector, sub_y, self.task, feature_type)\n",
        "\n",
        "            if gini_best is None or gini > gini_best:\n",
        "                feature_best = feature\n",
        "                gini_best = gini\n",
        "\n",
        "                # split - маска на объекты, которые должны попасть в левое поддерево\n",
        "                if feature_type == \"real\":\n",
        "                    threshold_best = threshold\n",
        "                    split = feature_vector < threshold_best\n",
        "                elif feature_type == \"categorical\":\n",
        "                    # в данной реализации это просто значение категории\n",
        "                    threshold_best = threshold\n",
        "                    split = feature_vector == threshold_best\n",
        "                else:\n",
        "                    raise ValueError\n",
        "\n",
        "        # записываем полученные сплиты в атрибуты класса\n",
        "        if feature_best is None:\n",
        "            node[\"type\"] = \"terminal\"\n",
        "            node[\"class\"] = Counter(sub_y).most_common(1)[0][0]\n",
        "            return\n",
        "\n",
        "        node[\"type\"] = \"nonterminal\"\n",
        "\n",
        "        node[\"feature_split\"] = feature_best\n",
        "        if self._feature_types[feature_best] == \"real\":\n",
        "            node[\"threshold\"] = threshold_best\n",
        "        elif self._feature_types[feature_best] == \"categorical\":\n",
        "            node[\"category_split\"] = threshold_best\n",
        "        else:\n",
        "            raise ValueError\n",
        "\n",
        "        node[\"left_child\"], node[\"right_child\"] = {}, {}\n",
        "        self._fit_node(sub_X[split], sub_y[split], node[\"left_child\"])\n",
        "        self._fit_node(sub_X[np.logical_not(split)], sub_y[np.logical_not(split)], node[\"right_child\"])\n",
        "\n",
        "    def _predict_node(self, x: np.ndarray, node: dict) -> int:\n",
        "        \"\"\"\n",
        "        Предсказание начинается с корневой вершины дерева и рекурсивно идёт в левое или правое поддерево в зависимости от значения\n",
        "        предиката на объекте. Листовая вершина возвращает предсказание.\n",
        "        :param x: np.array, элемент выборки\n",
        "        :param node: dict, вершина дерева\n",
        "        \"\"\"\n",
        "        if node['type'] == 'terminal':\n",
        "          return node['class']\n",
        "\n",
        "        if self._feature_types[node['feature_split']] == 'real':\n",
        "          if x[node['feature_split']] < node['threshold']:\n",
        "            return self._predict_node(x, node['left_child'])\n",
        "          return self._predict_node(x, node['right_child'])\n",
        "\n",
        "        elif self._feature_types[node['feature_split']] == 'categorical':\n",
        "          if x[node['feature_split']] == node['category_split']:\n",
        "            return self._predict_node(x, node['left_child'])\n",
        "          return self._predict_node(x, node['right_child'])\n",
        "\n",
        "    def fit(self, X: np.ndarray, y: np.ndarray) -> None:\n",
        "        self._fit_node(X, y, self._tree)\n",
        "\n",
        "    def predict(self, X: np.ndarray) -> np.ndarray:\n",
        "        predicted = []\n",
        "        for x in X:\n",
        "            predicted.append(self._predict_node(x, self._tree))\n",
        "\n",
        "        return np.array(predicted)"
      ]
    },
    {
      "cell_type": "markdown",
      "metadata": {
        "id": "U3narvJc0rsd"
      },
      "source": [
        "**2.3 Работа с датасетом: построение кривых \"порог — значение критерия Джини\" для признаков, визуализация диаграммы рассеяния \"значение признака — класс\"**\n",
        "\n",
        "Датасет: `08_trees_rf.csv` (преобразованный датасет [User Knowledge](https://archive.ics.uci.edu/ml/datasets/User+Knowledge+Modeling)). Признаки объекта записаны в первых пяти столбцах, а в последнем записана целевая переменная (класс: 0 или 1)."
      ]
    },
    {
      "cell_type": "code",
      "execution_count": null,
      "metadata": {
        "colab": {
          "base_uri": "https://localhost:8080/",
          "height": 201
        },
        "id": "70qqDLGO0rsd",
        "outputId": "6abaae72-01b1-4406-8e21-3b315b456c18"
      },
      "outputs": [
        {
          "data": {
            "application/vnd.google.colaboratory.intrinsic+json": {
              "summary": "{\n  \"name\": \"data\",\n  \"rows\": 258,\n  \"fields\": [\n    {\n      \"column\": \"STG\",\n      \"properties\": {\n        \"dtype\": \"number\",\n        \"std\": 0.21027120159970078,\n        \"min\": 0.0,\n        \"max\": 0.99,\n        \"num_unique_values\": 104,\n        \"samples\": [\n          0.295,\n          0.475,\n          0.465\n        ],\n        \"semantic_type\": \"\",\n        \"description\": \"\"\n      }\n    },\n    {\n      \"column\": \"SCG\",\n      \"properties\": {\n        \"dtype\": \"number\",\n        \"std\": 0.21196232184048855,\n        \"min\": 0.0,\n        \"max\": 0.9,\n        \"num_unique_values\": 89,\n        \"samples\": [\n          0.77,\n          0.69,\n          0.49\n        ],\n        \"semantic_type\": \"\",\n        \"description\": \"\"\n      }\n    },\n    {\n      \"column\": \"STR\",\n      \"properties\": {\n        \"dtype\": \"number\",\n        \"std\": 0.2459397683066402,\n        \"min\": 0.0,\n        \"max\": 0.95,\n        \"num_unique_values\": 83,\n        \"samples\": [\n          0.61,\n          0.0,\n          0.62\n        ],\n        \"semantic_type\": \"\",\n        \"description\": \"\"\n      }\n    },\n    {\n      \"column\": \"LPR\",\n      \"properties\": {\n        \"dtype\": \"number\",\n        \"std\": 0.24810802196816695,\n        \"min\": 0.0,\n        \"max\": 0.99,\n        \"num_unique_values\": 80,\n        \"samples\": [\n          0.64,\n          0.0,\n          0.18\n        ],\n        \"semantic_type\": \"\",\n        \"description\": \"\"\n      }\n    },\n    {\n      \"column\": \"PEG\",\n      \"properties\": {\n        \"dtype\": \"number\",\n        \"std\": 0.25521089251667145,\n        \"min\": 0.0,\n        \"max\": 0.93,\n        \"num_unique_values\": 80,\n        \"samples\": [\n          0.86,\n          0.0,\n          0.82\n        ],\n        \"semantic_type\": \"\",\n        \"description\": \"\"\n      }\n    },\n    {\n      \"column\": \"UNS\",\n      \"properties\": {\n        \"dtype\": \"number\",\n        \"std\": 0,\n        \"min\": 0,\n        \"max\": 1,\n        \"num_unique_values\": 2,\n        \"samples\": [\n          1,\n          0\n        ],\n        \"semantic_type\": \"\",\n        \"description\": \"\"\n      }\n    }\n  ]\n}",
              "type": "dataframe",
              "variable_name": "data"
            },
            "text/html": [
              "\n",
              "  <div id=\"df-60326321-57e9-4460-9312-1e54ff67f2db\" class=\"colab-df-container\">\n",
              "    <div>\n",
              "<style scoped>\n",
              "    .dataframe tbody tr th:only-of-type {\n",
              "        vertical-align: middle;\n",
              "    }\n",
              "\n",
              "    .dataframe tbody tr th {\n",
              "        vertical-align: top;\n",
              "    }\n",
              "\n",
              "    .dataframe thead th {\n",
              "        text-align: right;\n",
              "    }\n",
              "</style>\n",
              "<table border=\"1\" class=\"dataframe\">\n",
              "  <thead>\n",
              "    <tr style=\"text-align: right;\">\n",
              "      <th></th>\n",
              "      <th>STG</th>\n",
              "      <th>SCG</th>\n",
              "      <th>STR</th>\n",
              "      <th>LPR</th>\n",
              "      <th>PEG</th>\n",
              "      <th>UNS</th>\n",
              "    </tr>\n",
              "  </thead>\n",
              "  <tbody>\n",
              "    <tr>\n",
              "      <th>0</th>\n",
              "      <td>0.00</td>\n",
              "      <td>0.00</td>\n",
              "      <td>0.00</td>\n",
              "      <td>0.00</td>\n",
              "      <td>0.00</td>\n",
              "      <td>0</td>\n",
              "    </tr>\n",
              "    <tr>\n",
              "      <th>1</th>\n",
              "      <td>0.08</td>\n",
              "      <td>0.08</td>\n",
              "      <td>0.10</td>\n",
              "      <td>0.24</td>\n",
              "      <td>0.90</td>\n",
              "      <td>1</td>\n",
              "    </tr>\n",
              "    <tr>\n",
              "      <th>2</th>\n",
              "      <td>0.06</td>\n",
              "      <td>0.06</td>\n",
              "      <td>0.05</td>\n",
              "      <td>0.25</td>\n",
              "      <td>0.33</td>\n",
              "      <td>0</td>\n",
              "    </tr>\n",
              "    <tr>\n",
              "      <th>3</th>\n",
              "      <td>0.10</td>\n",
              "      <td>0.10</td>\n",
              "      <td>0.15</td>\n",
              "      <td>0.65</td>\n",
              "      <td>0.30</td>\n",
              "      <td>1</td>\n",
              "    </tr>\n",
              "    <tr>\n",
              "      <th>4</th>\n",
              "      <td>0.08</td>\n",
              "      <td>0.08</td>\n",
              "      <td>0.08</td>\n",
              "      <td>0.98</td>\n",
              "      <td>0.24</td>\n",
              "      <td>0</td>\n",
              "    </tr>\n",
              "  </tbody>\n",
              "</table>\n",
              "</div>\n",
              "    <div class=\"colab-df-buttons\">\n",
              "\n",
              "  <div class=\"colab-df-container\">\n",
              "    <button class=\"colab-df-convert\" onclick=\"convertToInteractive('df-60326321-57e9-4460-9312-1e54ff67f2db')\"\n",
              "            title=\"Convert this dataframe to an interactive table.\"\n",
              "            style=\"display:none;\">\n",
              "\n",
              "  <svg xmlns=\"http://www.w3.org/2000/svg\" height=\"24px\" viewBox=\"0 -960 960 960\">\n",
              "    <path d=\"M120-120v-720h720v720H120Zm60-500h600v-160H180v160Zm220 220h160v-160H400v160Zm0 220h160v-160H400v160ZM180-400h160v-160H180v160Zm440 0h160v-160H620v160ZM180-180h160v-160H180v160Zm440 0h160v-160H620v160Z\"/>\n",
              "  </svg>\n",
              "    </button>\n",
              "\n",
              "  <style>\n",
              "    .colab-df-container {\n",
              "      display:flex;\n",
              "      gap: 12px;\n",
              "    }\n",
              "\n",
              "    .colab-df-convert {\n",
              "      background-color: #E8F0FE;\n",
              "      border: none;\n",
              "      border-radius: 50%;\n",
              "      cursor: pointer;\n",
              "      display: none;\n",
              "      fill: #1967D2;\n",
              "      height: 32px;\n",
              "      padding: 0 0 0 0;\n",
              "      width: 32px;\n",
              "    }\n",
              "\n",
              "    .colab-df-convert:hover {\n",
              "      background-color: #E2EBFA;\n",
              "      box-shadow: 0px 1px 2px rgba(60, 64, 67, 0.3), 0px 1px 3px 1px rgba(60, 64, 67, 0.15);\n",
              "      fill: #174EA6;\n",
              "    }\n",
              "\n",
              "    .colab-df-buttons div {\n",
              "      margin-bottom: 4px;\n",
              "    }\n",
              "\n",
              "    [theme=dark] .colab-df-convert {\n",
              "      background-color: #3B4455;\n",
              "      fill: #D2E3FC;\n",
              "    }\n",
              "\n",
              "    [theme=dark] .colab-df-convert:hover {\n",
              "      background-color: #434B5C;\n",
              "      box-shadow: 0px 1px 3px 1px rgba(0, 0, 0, 0.15);\n",
              "      filter: drop-shadow(0px 1px 2px rgba(0, 0, 0, 0.3));\n",
              "      fill: #FFFFFF;\n",
              "    }\n",
              "  </style>\n",
              "\n",
              "    <script>\n",
              "      const buttonEl =\n",
              "        document.querySelector('#df-60326321-57e9-4460-9312-1e54ff67f2db button.colab-df-convert');\n",
              "      buttonEl.style.display =\n",
              "        google.colab.kernel.accessAllowed ? 'block' : 'none';\n",
              "\n",
              "      async function convertToInteractive(key) {\n",
              "        const element = document.querySelector('#df-60326321-57e9-4460-9312-1e54ff67f2db');\n",
              "        const dataTable =\n",
              "          await google.colab.kernel.invokeFunction('convertToInteractive',\n",
              "                                                    [key], {});\n",
              "        if (!dataTable) return;\n",
              "\n",
              "        const docLinkHtml = 'Like what you see? Visit the ' +\n",
              "          '<a target=\"_blank\" href=https://colab.research.google.com/notebooks/data_table.ipynb>data table notebook</a>'\n",
              "          + ' to learn more about interactive tables.';\n",
              "        element.innerHTML = '';\n",
              "        dataTable['output_type'] = 'display_data';\n",
              "        await google.colab.output.renderOutput(dataTable, element);\n",
              "        const docLink = document.createElement('div');\n",
              "        docLink.innerHTML = docLinkHtml;\n",
              "        element.appendChild(docLink);\n",
              "      }\n",
              "    </script>\n",
              "  </div>\n",
              "\n",
              "\n",
              "<div id=\"df-f681bd03-aa50-4990-8510-73f7f0c9de78\">\n",
              "  <button class=\"colab-df-quickchart\" onclick=\"quickchart('df-f681bd03-aa50-4990-8510-73f7f0c9de78')\"\n",
              "            title=\"Suggest charts\"\n",
              "            style=\"display:none;\">\n",
              "\n",
              "<svg xmlns=\"http://www.w3.org/2000/svg\" height=\"24px\"viewBox=\"0 0 24 24\"\n",
              "     width=\"24px\">\n",
              "    <g>\n",
              "        <path d=\"M19 3H5c-1.1 0-2 .9-2 2v14c0 1.1.9 2 2 2h14c1.1 0 2-.9 2-2V5c0-1.1-.9-2-2-2zM9 17H7v-7h2v7zm4 0h-2V7h2v10zm4 0h-2v-4h2v4z\"/>\n",
              "    </g>\n",
              "</svg>\n",
              "  </button>\n",
              "\n",
              "<style>\n",
              "  .colab-df-quickchart {\n",
              "      --bg-color: #E8F0FE;\n",
              "      --fill-color: #1967D2;\n",
              "      --hover-bg-color: #E2EBFA;\n",
              "      --hover-fill-color: #174EA6;\n",
              "      --disabled-fill-color: #AAA;\n",
              "      --disabled-bg-color: #DDD;\n",
              "  }\n",
              "\n",
              "  [theme=dark] .colab-df-quickchart {\n",
              "      --bg-color: #3B4455;\n",
              "      --fill-color: #D2E3FC;\n",
              "      --hover-bg-color: #434B5C;\n",
              "      --hover-fill-color: #FFFFFF;\n",
              "      --disabled-bg-color: #3B4455;\n",
              "      --disabled-fill-color: #666;\n",
              "  }\n",
              "\n",
              "  .colab-df-quickchart {\n",
              "    background-color: var(--bg-color);\n",
              "    border: none;\n",
              "    border-radius: 50%;\n",
              "    cursor: pointer;\n",
              "    display: none;\n",
              "    fill: var(--fill-color);\n",
              "    height: 32px;\n",
              "    padding: 0;\n",
              "    width: 32px;\n",
              "  }\n",
              "\n",
              "  .colab-df-quickchart:hover {\n",
              "    background-color: var(--hover-bg-color);\n",
              "    box-shadow: 0 1px 2px rgba(60, 64, 67, 0.3), 0 1px 3px 1px rgba(60, 64, 67, 0.15);\n",
              "    fill: var(--button-hover-fill-color);\n",
              "  }\n",
              "\n",
              "  .colab-df-quickchart-complete:disabled,\n",
              "  .colab-df-quickchart-complete:disabled:hover {\n",
              "    background-color: var(--disabled-bg-color);\n",
              "    fill: var(--disabled-fill-color);\n",
              "    box-shadow: none;\n",
              "  }\n",
              "\n",
              "  .colab-df-spinner {\n",
              "    border: 2px solid var(--fill-color);\n",
              "    border-color: transparent;\n",
              "    border-bottom-color: var(--fill-color);\n",
              "    animation:\n",
              "      spin 1s steps(1) infinite;\n",
              "  }\n",
              "\n",
              "  @keyframes spin {\n",
              "    0% {\n",
              "      border-color: transparent;\n",
              "      border-bottom-color: var(--fill-color);\n",
              "      border-left-color: var(--fill-color);\n",
              "    }\n",
              "    20% {\n",
              "      border-color: transparent;\n",
              "      border-left-color: var(--fill-color);\n",
              "      border-top-color: var(--fill-color);\n",
              "    }\n",
              "    30% {\n",
              "      border-color: transparent;\n",
              "      border-left-color: var(--fill-color);\n",
              "      border-top-color: var(--fill-color);\n",
              "      border-right-color: var(--fill-color);\n",
              "    }\n",
              "    40% {\n",
              "      border-color: transparent;\n",
              "      border-right-color: var(--fill-color);\n",
              "      border-top-color: var(--fill-color);\n",
              "    }\n",
              "    60% {\n",
              "      border-color: transparent;\n",
              "      border-right-color: var(--fill-color);\n",
              "    }\n",
              "    80% {\n",
              "      border-color: transparent;\n",
              "      border-right-color: var(--fill-color);\n",
              "      border-bottom-color: var(--fill-color);\n",
              "    }\n",
              "    90% {\n",
              "      border-color: transparent;\n",
              "      border-bottom-color: var(--fill-color);\n",
              "    }\n",
              "  }\n",
              "</style>\n",
              "\n",
              "  <script>\n",
              "    async function quickchart(key) {\n",
              "      const quickchartButtonEl =\n",
              "        document.querySelector('#' + key + ' button');\n",
              "      quickchartButtonEl.disabled = true;  // To prevent multiple clicks.\n",
              "      quickchartButtonEl.classList.add('colab-df-spinner');\n",
              "      try {\n",
              "        const charts = await google.colab.kernel.invokeFunction(\n",
              "            'suggestCharts', [key], {});\n",
              "      } catch (error) {\n",
              "        console.error('Error during call to suggestCharts:', error);\n",
              "      }\n",
              "      quickchartButtonEl.classList.remove('colab-df-spinner');\n",
              "      quickchartButtonEl.classList.add('colab-df-quickchart-complete');\n",
              "    }\n",
              "    (() => {\n",
              "      let quickchartButtonEl =\n",
              "        document.querySelector('#df-f681bd03-aa50-4990-8510-73f7f0c9de78 button');\n",
              "      quickchartButtonEl.style.display =\n",
              "        google.colab.kernel.accessAllowed ? 'block' : 'none';\n",
              "    })();\n",
              "  </script>\n",
              "</div>\n",
              "    </div>\n",
              "  </div>\n"
            ],
            "text/plain": [
              "    STG   SCG   STR   LPR   PEG  UNS\n",
              "0  0.00  0.00  0.00  0.00  0.00    0\n",
              "1  0.08  0.08  0.10  0.24  0.90    1\n",
              "2  0.06  0.06  0.05  0.25  0.33    0\n",
              "3  0.10  0.10  0.15  0.65  0.30    1\n",
              "4  0.08  0.08  0.08  0.98  0.24    0"
            ]
          },
          "execution_count": 21,
          "metadata": {},
          "output_type": "execute_result"
        }
      ],
      "source": [
        "data = pd.read_csv('08_trees_rf_data.csv')\n",
        "data = data.drop(['Unnamed: 0'], axis=1)\n",
        "data.head()"
      ]
    },
    {
      "cell_type": "code",
      "execution_count": null,
      "metadata": {
        "id": "gbLV6M-CBqUG"
      },
      "outputs": [],
      "source": [
        "y = np.array(data['UNS'])\n",
        "data = data.drop(['UNS'], axis=1)"
      ]
    },
    {
      "cell_type": "code",
      "execution_count": null,
      "metadata": {
        "id": "2t31U8JlHdKD"
      },
      "outputs": [],
      "source": [
        "splits = data.apply(find_best_split, axis=0, args=(y, 'classification'))"
      ]
    },
    {
      "cell_type": "code",
      "execution_count": null,
      "metadata": {
        "colab": {
          "base_uri": "https://localhost:8080/",
          "height": 203
        },
        "id": "s4sllfq9wx28",
        "outputId": "71d7ff9c-bd03-4c6f-a443-7a93788c8f88"
      },
      "outputs": [
        {
          "data": {
            "application/vnd.google.colaboratory.intrinsic+json": {
              "summary": "{\n  \"name\": \"splits\",\n  \"rows\": 4,\n  \"fields\": [\n    {\n      \"column\": \"STG\",\n      \"properties\": {\n        \"dtype\": \"object\",\n        \"semantic_type\": \"\",\n        \"description\": \"\"\n      }\n    },\n    {\n      \"column\": \"SCG\",\n      \"properties\": {\n        \"dtype\": \"object\",\n        \"semantic_type\": \"\",\n        \"description\": \"\"\n      }\n    },\n    {\n      \"column\": \"STR\",\n      \"properties\": {\n        \"dtype\": \"object\",\n        \"semantic_type\": \"\",\n        \"description\": \"\"\n      }\n    },\n    {\n      \"column\": \"LPR\",\n      \"properties\": {\n        \"dtype\": \"object\",\n        \"semantic_type\": \"\",\n        \"description\": \"\"\n      }\n    },\n    {\n      \"column\": \"PEG\",\n      \"properties\": {\n        \"dtype\": \"object\",\n        \"semantic_type\": \"\",\n        \"description\": \"\"\n      }\n    }\n  ]\n}",
              "type": "dataframe",
              "variable_name": "splits"
            },
            "text/html": [
              "\n",
              "  <div id=\"df-dd078b0e-a8d6-4209-94f1-4c26c006d2e0\" class=\"colab-df-container\">\n",
              "    <div>\n",
              "<style scoped>\n",
              "    .dataframe tbody tr th:only-of-type {\n",
              "        vertical-align: middle;\n",
              "    }\n",
              "\n",
              "    .dataframe tbody tr th {\n",
              "        vertical-align: top;\n",
              "    }\n",
              "\n",
              "    .dataframe thead th {\n",
              "        text-align: right;\n",
              "    }\n",
              "</style>\n",
              "<table border=\"1\" class=\"dataframe\">\n",
              "  <thead>\n",
              "    <tr style=\"text-align: right;\">\n",
              "      <th></th>\n",
              "      <th>STG</th>\n",
              "      <th>SCG</th>\n",
              "      <th>STR</th>\n",
              "      <th>LPR</th>\n",
              "      <th>PEG</th>\n",
              "    </tr>\n",
              "  </thead>\n",
              "  <tbody>\n",
              "    <tr>\n",
              "      <th>0</th>\n",
              "      <td>[0.01, 0.03, 0.045, 0.055, 0.07, 0.08499999999...</td>\n",
              "      <td>[0.005, 0.0125, 0.0175, 0.03, 0.045, 0.055, 0....</td>\n",
              "      <td>[0.01, 0.025, 0.035, 0.045, 0.055, 0.065, 0.07...</td>\n",
              "      <td>[0.005, 0.015, 0.03, 0.05, 0.07, 0.08499999999...</td>\n",
              "      <td>[0.005, 0.02, 0.035, 0.045, 0.0600000000000000...</td>\n",
              "    </tr>\n",
              "    <tr>\n",
              "      <th>1</th>\n",
              "      <td>[0.0001136124631933022, 0.001493476424281659, ...</td>\n",
              "      <td>[0.0001136124631933022, 0.001493476424281659, ...</td>\n",
              "      <td>[0.0026657005095239716, 8.574469505195914e-06,...</td>\n",
              "      <td>[0.0026657005095239716, 0.001493476424281659, ...</td>\n",
              "      <td>[0.005352226804278604, 0.010788740644844974, 0...</td>\n",
              "    </tr>\n",
              "    <tr>\n",
              "      <th>2</th>\n",
              "      <td>0.615</td>\n",
              "      <td>0.425</td>\n",
              "      <td>0.365</td>\n",
              "      <td>0.39</td>\n",
              "      <td>0.3365</td>\n",
              "    </tr>\n",
              "    <tr>\n",
              "      <th>3</th>\n",
              "      <td>0.031481</td>\n",
              "      <td>0.020438</td>\n",
              "      <td>0.018119</td>\n",
              "      <td>0.030789</td>\n",
              "      <td>0.399392</td>\n",
              "    </tr>\n",
              "  </tbody>\n",
              "</table>\n",
              "</div>\n",
              "    <div class=\"colab-df-buttons\">\n",
              "\n",
              "  <div class=\"colab-df-container\">\n",
              "    <button class=\"colab-df-convert\" onclick=\"convertToInteractive('df-dd078b0e-a8d6-4209-94f1-4c26c006d2e0')\"\n",
              "            title=\"Convert this dataframe to an interactive table.\"\n",
              "            style=\"display:none;\">\n",
              "\n",
              "  <svg xmlns=\"http://www.w3.org/2000/svg\" height=\"24px\" viewBox=\"0 -960 960 960\">\n",
              "    <path d=\"M120-120v-720h720v720H120Zm60-500h600v-160H180v160Zm220 220h160v-160H400v160Zm0 220h160v-160H400v160ZM180-400h160v-160H180v160Zm440 0h160v-160H620v160ZM180-180h160v-160H180v160Zm440 0h160v-160H620v160Z\"/>\n",
              "  </svg>\n",
              "    </button>\n",
              "\n",
              "  <style>\n",
              "    .colab-df-container {\n",
              "      display:flex;\n",
              "      gap: 12px;\n",
              "    }\n",
              "\n",
              "    .colab-df-convert {\n",
              "      background-color: #E8F0FE;\n",
              "      border: none;\n",
              "      border-radius: 50%;\n",
              "      cursor: pointer;\n",
              "      display: none;\n",
              "      fill: #1967D2;\n",
              "      height: 32px;\n",
              "      padding: 0 0 0 0;\n",
              "      width: 32px;\n",
              "    }\n",
              "\n",
              "    .colab-df-convert:hover {\n",
              "      background-color: #E2EBFA;\n",
              "      box-shadow: 0px 1px 2px rgba(60, 64, 67, 0.3), 0px 1px 3px 1px rgba(60, 64, 67, 0.15);\n",
              "      fill: #174EA6;\n",
              "    }\n",
              "\n",
              "    .colab-df-buttons div {\n",
              "      margin-bottom: 4px;\n",
              "    }\n",
              "\n",
              "    [theme=dark] .colab-df-convert {\n",
              "      background-color: #3B4455;\n",
              "      fill: #D2E3FC;\n",
              "    }\n",
              "\n",
              "    [theme=dark] .colab-df-convert:hover {\n",
              "      background-color: #434B5C;\n",
              "      box-shadow: 0px 1px 3px 1px rgba(0, 0, 0, 0.15);\n",
              "      filter: drop-shadow(0px 1px 2px rgba(0, 0, 0, 0.3));\n",
              "      fill: #FFFFFF;\n",
              "    }\n",
              "  </style>\n",
              "\n",
              "    <script>\n",
              "      const buttonEl =\n",
              "        document.querySelector('#df-dd078b0e-a8d6-4209-94f1-4c26c006d2e0 button.colab-df-convert');\n",
              "      buttonEl.style.display =\n",
              "        google.colab.kernel.accessAllowed ? 'block' : 'none';\n",
              "\n",
              "      async function convertToInteractive(key) {\n",
              "        const element = document.querySelector('#df-dd078b0e-a8d6-4209-94f1-4c26c006d2e0');\n",
              "        const dataTable =\n",
              "          await google.colab.kernel.invokeFunction('convertToInteractive',\n",
              "                                                    [key], {});\n",
              "        if (!dataTable) return;\n",
              "\n",
              "        const docLinkHtml = 'Like what you see? Visit the ' +\n",
              "          '<a target=\"_blank\" href=https://colab.research.google.com/notebooks/data_table.ipynb>data table notebook</a>'\n",
              "          + ' to learn more about interactive tables.';\n",
              "        element.innerHTML = '';\n",
              "        dataTable['output_type'] = 'display_data';\n",
              "        await google.colab.output.renderOutput(dataTable, element);\n",
              "        const docLink = document.createElement('div');\n",
              "        docLink.innerHTML = docLinkHtml;\n",
              "        element.appendChild(docLink);\n",
              "      }\n",
              "    </script>\n",
              "  </div>\n",
              "\n",
              "\n",
              "<div id=\"df-d090ec2a-962b-4a61-886a-a03ad910dc08\">\n",
              "  <button class=\"colab-df-quickchart\" onclick=\"quickchart('df-d090ec2a-962b-4a61-886a-a03ad910dc08')\"\n",
              "            title=\"Suggest charts\"\n",
              "            style=\"display:none;\">\n",
              "\n",
              "<svg xmlns=\"http://www.w3.org/2000/svg\" height=\"24px\"viewBox=\"0 0 24 24\"\n",
              "     width=\"24px\">\n",
              "    <g>\n",
              "        <path d=\"M19 3H5c-1.1 0-2 .9-2 2v14c0 1.1.9 2 2 2h14c1.1 0 2-.9 2-2V5c0-1.1-.9-2-2-2zM9 17H7v-7h2v7zm4 0h-2V7h2v10zm4 0h-2v-4h2v4z\"/>\n",
              "    </g>\n",
              "</svg>\n",
              "  </button>\n",
              "\n",
              "<style>\n",
              "  .colab-df-quickchart {\n",
              "      --bg-color: #E8F0FE;\n",
              "      --fill-color: #1967D2;\n",
              "      --hover-bg-color: #E2EBFA;\n",
              "      --hover-fill-color: #174EA6;\n",
              "      --disabled-fill-color: #AAA;\n",
              "      --disabled-bg-color: #DDD;\n",
              "  }\n",
              "\n",
              "  [theme=dark] .colab-df-quickchart {\n",
              "      --bg-color: #3B4455;\n",
              "      --fill-color: #D2E3FC;\n",
              "      --hover-bg-color: #434B5C;\n",
              "      --hover-fill-color: #FFFFFF;\n",
              "      --disabled-bg-color: #3B4455;\n",
              "      --disabled-fill-color: #666;\n",
              "  }\n",
              "\n",
              "  .colab-df-quickchart {\n",
              "    background-color: var(--bg-color);\n",
              "    border: none;\n",
              "    border-radius: 50%;\n",
              "    cursor: pointer;\n",
              "    display: none;\n",
              "    fill: var(--fill-color);\n",
              "    height: 32px;\n",
              "    padding: 0;\n",
              "    width: 32px;\n",
              "  }\n",
              "\n",
              "  .colab-df-quickchart:hover {\n",
              "    background-color: var(--hover-bg-color);\n",
              "    box-shadow: 0 1px 2px rgba(60, 64, 67, 0.3), 0 1px 3px 1px rgba(60, 64, 67, 0.15);\n",
              "    fill: var(--button-hover-fill-color);\n",
              "  }\n",
              "\n",
              "  .colab-df-quickchart-complete:disabled,\n",
              "  .colab-df-quickchart-complete:disabled:hover {\n",
              "    background-color: var(--disabled-bg-color);\n",
              "    fill: var(--disabled-fill-color);\n",
              "    box-shadow: none;\n",
              "  }\n",
              "\n",
              "  .colab-df-spinner {\n",
              "    border: 2px solid var(--fill-color);\n",
              "    border-color: transparent;\n",
              "    border-bottom-color: var(--fill-color);\n",
              "    animation:\n",
              "      spin 1s steps(1) infinite;\n",
              "  }\n",
              "\n",
              "  @keyframes spin {\n",
              "    0% {\n",
              "      border-color: transparent;\n",
              "      border-bottom-color: var(--fill-color);\n",
              "      border-left-color: var(--fill-color);\n",
              "    }\n",
              "    20% {\n",
              "      border-color: transparent;\n",
              "      border-left-color: var(--fill-color);\n",
              "      border-top-color: var(--fill-color);\n",
              "    }\n",
              "    30% {\n",
              "      border-color: transparent;\n",
              "      border-left-color: var(--fill-color);\n",
              "      border-top-color: var(--fill-color);\n",
              "      border-right-color: var(--fill-color);\n",
              "    }\n",
              "    40% {\n",
              "      border-color: transparent;\n",
              "      border-right-color: var(--fill-color);\n",
              "      border-top-color: var(--fill-color);\n",
              "    }\n",
              "    60% {\n",
              "      border-color: transparent;\n",
              "      border-right-color: var(--fill-color);\n",
              "    }\n",
              "    80% {\n",
              "      border-color: transparent;\n",
              "      border-right-color: var(--fill-color);\n",
              "      border-bottom-color: var(--fill-color);\n",
              "    }\n",
              "    90% {\n",
              "      border-color: transparent;\n",
              "      border-bottom-color: var(--fill-color);\n",
              "    }\n",
              "  }\n",
              "</style>\n",
              "\n",
              "  <script>\n",
              "    async function quickchart(key) {\n",
              "      const quickchartButtonEl =\n",
              "        document.querySelector('#' + key + ' button');\n",
              "      quickchartButtonEl.disabled = true;  // To prevent multiple clicks.\n",
              "      quickchartButtonEl.classList.add('colab-df-spinner');\n",
              "      try {\n",
              "        const charts = await google.colab.kernel.invokeFunction(\n",
              "            'suggestCharts', [key], {});\n",
              "      } catch (error) {\n",
              "        console.error('Error during call to suggestCharts:', error);\n",
              "      }\n",
              "      quickchartButtonEl.classList.remove('colab-df-spinner');\n",
              "      quickchartButtonEl.classList.add('colab-df-quickchart-complete');\n",
              "    }\n",
              "    (() => {\n",
              "      let quickchartButtonEl =\n",
              "        document.querySelector('#df-d090ec2a-962b-4a61-886a-a03ad910dc08 button');\n",
              "      quickchartButtonEl.style.display =\n",
              "        google.colab.kernel.accessAllowed ? 'block' : 'none';\n",
              "    })();\n",
              "  </script>\n",
              "</div>\n",
              "    </div>\n",
              "  </div>\n"
            ],
            "text/plain": [
              "                                                 STG  \\\n",
              "0  [0.01, 0.03, 0.045, 0.055, 0.07, 0.08499999999...   \n",
              "1  [0.0001136124631933022, 0.001493476424281659, ...   \n",
              "2                                              0.615   \n",
              "3                                           0.031481   \n",
              "\n",
              "                                                 SCG  \\\n",
              "0  [0.005, 0.0125, 0.0175, 0.03, 0.045, 0.055, 0....   \n",
              "1  [0.0001136124631933022, 0.001493476424281659, ...   \n",
              "2                                              0.425   \n",
              "3                                           0.020438   \n",
              "\n",
              "                                                 STR  \\\n",
              "0  [0.01, 0.025, 0.035, 0.045, 0.055, 0.065, 0.07...   \n",
              "1  [0.0026657005095239716, 8.574469505195914e-06,...   \n",
              "2                                              0.365   \n",
              "3                                           0.018119   \n",
              "\n",
              "                                                 LPR  \\\n",
              "0  [0.005, 0.015, 0.03, 0.05, 0.07, 0.08499999999...   \n",
              "1  [0.0026657005095239716, 0.001493476424281659, ...   \n",
              "2                                               0.39   \n",
              "3                                           0.030789   \n",
              "\n",
              "                                                 PEG  \n",
              "0  [0.005, 0.02, 0.035, 0.045, 0.0600000000000000...  \n",
              "1  [0.005352226804278604, 0.010788740644844974, 0...  \n",
              "2                                             0.3365  \n",
              "3                                           0.399392  "
            ]
          },
          "execution_count": 24,
          "metadata": {},
          "output_type": "execute_result"
        }
      ],
      "source": [
        "splits"
      ]
    },
    {
      "cell_type": "code",
      "execution_count": null,
      "metadata": {
        "colab": {
          "base_uri": "https://localhost:8080/",
          "height": 717
        },
        "id": "4eZ1e7HbJUGg",
        "outputId": "8582acbd-3e15-4777-d0e3-49114297bab8"
      },
      "outputs": [
        {
          "data": {
            "image/png": "[encoded data removed]",
            "text/plain": [
              "<Figure size 1300x800 with 1 Axes>"
            ]
          },
          "metadata": {},
          "output_type": "display_data"
        }
      ],
      "source": [
        "plt.figure(figsize=(13, 8))\n",
        "plt.title('Порог - значение критерия информативности')\n",
        "plt.plot(splits.at[0, 'STG'], splits.at[1, 'STG'])\n",
        "plt.plot(splits.at[0, 'SCG'], splits.at[1, 'SCG'])\n",
        "plt.plot(splits.at[0, 'STR'], splits.at[1, 'STR'])\n",
        "plt.plot(splits.at[0, 'LPR'], splits.at[1, 'LPR'])\n",
        "plt.plot(splits.at[0, 'PEG'], splits.at[1, 'PEG'])\n",
        "plt.xlabel(\"threshold\")\n",
        "plt.ylabel(\"Q\")\n",
        "plt.legend(['STG', 'SCG', 'STR', 'LPR', 'PEG'])\n",
        "plt.show()"
      ]
    },
    {
      "cell_type": "code",
      "execution_count": null,
      "metadata": {
        "colab": {
          "base_uri": "https://localhost:8080/",
          "height": 471
        },
        "id": "zdvQIryaLq15",
        "outputId": "57752fa4-55a4-4d94-ff70-05eb3c94caef"
      },
      "outputs": [
        {
          "data": {
            "image/png": "[encoded data removed]",
            "text/plain": [
              "<Figure size 640x480 with 1 Axes>"
            ]
          },
          "metadata": {},
          "output_type": "display_data"
        }
      ],
      "source": [
        "plt.scatter(data['STG'], y)\n",
        "plt.title('Значение признака STG - класс')\n",
        "plt.xlabel(\"feature\")\n",
        "plt.ylabel(\"class\")\n",
        "plt.show()"
      ]
    },
    {
      "cell_type": "code",
      "execution_count": null,
      "metadata": {
        "colab": {
          "base_uri": "https://localhost:8080/",
          "height": 471
        },
        "id": "owBtNkX1MW2v",
        "outputId": "c0ce5e9f-72ca-48d8-c7cb-248a261dbc17"
      },
      "outputs": [
        {
          "data": {
            "image/png": "[encoded data removed]",
            "text/plain": [
              "<Figure size 640x480 with 1 Axes>"
            ]
          },
          "metadata": {},
          "output_type": "display_data"
        }
      ],
      "source": [
        "plt.scatter(data['SCG'], y)\n",
        "plt.title('Значение признака SCG - класс')\n",
        "plt.xlabel(\"feature\")\n",
        "plt.ylabel(\"class\")\n",
        "plt.show()"
      ]
    },
    {
      "cell_type": "code",
      "execution_count": null,
      "metadata": {
        "colab": {
          "base_uri": "https://localhost:8080/",
          "height": 471
        },
        "id": "Pv01WWZxMqz2",
        "outputId": "b8293342-bcda-42b5-bd32-2ae4c423f48e"
      },
      "outputs": [
        {
          "data": {
            "image/png": "[encoded data removed]",
            "text/plain": [
              "<Figure size 640x480 with 1 Axes>"
            ]
          },
          "metadata": {},
          "output_type": "display_data"
        }
      ],
      "source": [
        "plt.scatter(data['STR'], y)\n",
        "plt.title('Значение признака STR - класс')\n",
        "plt.xlabel(\"feature\")\n",
        "plt.ylabel(\"class\")\n",
        "plt.show()"
      ]
    },
    {
      "cell_type": "code",
      "execution_count": null,
      "metadata": {
        "colab": {
          "base_uri": "https://localhost:8080/",
          "height": 471
        },
        "id": "Gw0cQWpqMxsx",
        "outputId": "1d589996-7a65-4f8c-e8ab-cd4084716211"
      },
      "outputs": [
        {
          "data": {
            "image/png": "[encoded data removed]",
            "text/plain": [
              "<Figure size 640x480 with 1 Axes>"
            ]
          },
          "metadata": {},
          "output_type": "display_data"
        }
      ],
      "source": [
        "plt.scatter(data['LPR'], y)\n",
        "plt.title('Значение признака LPR - класс')\n",
        "plt.xlabel(\"feature\")\n",
        "plt.ylabel(\"class\")\n",
        "plt.show()"
      ]
    },
    {
      "cell_type": "code",
      "execution_count": null,
      "metadata": {
        "colab": {
          "base_uri": "https://localhost:8080/",
          "height": 471
        },
        "id": "oFo5xQaiM2t1",
        "outputId": "e02d8ce1-2ca6-4995-fb15-8e5d02766cbd"
      },
      "outputs": [
        {
          "data": {
            "image/png": "[encoded data removed]",
            "text/plain": [
              "<Figure size 640x480 with 1 Axes>"
            ]
          },
          "metadata": {},
          "output_type": "display_data"
        }
      ],
      "source": [
        "plt.scatter(data['PEG'], y)\n",
        "plt.title('Значение признака PEG - класс')\n",
        "plt.xlabel(\"feature\")\n",
        "plt.ylabel(\"class\")\n",
        "plt.show()"
      ]
    },
    {
      "cell_type": "markdown",
      "metadata": {
        "id": "1g_maeNWfyxE"
      },
      "source": [
        "Исходя из кривых значений критерия Джини, поскольку максимальное значение имеет критерий информативности на признаке 'PEG', по нему нужно производить деление выборки на два поддерева. Данный результат согласуется с визуальной оценкой диаграмм рассеяиния: на диаграмме последнего признака явно видно, что объекты с низким значением признака (меньше 0.3365) в основном относятся к классу 0, а со значением повыше - к классу 1.\n",
        "\n",
        "Если посмотреть на кривые зависимости критерия информативности от порога, то видно, что для всех признаков, кроме последнего, критерий информативности не сильно меняется с изменением порога, он остается в одном диапазоне для всех этих признаков (примерно от 0. до 0.05 - признаки, по которым деление практически невозможно). А вот для признака PEG он сначала растет, а потом падает (\"хороший\" признак, по которому выборка делится почти идеально)."
      ]
    },
    {
      "cell_type": "markdown",
      "metadata": {
        "id": "22xkcHrY0rsd"
      },
      "source": [
        "**2.4 Тестирование реализованного решающего дерева на датасете [mushrooms](https://archive.ics.uci.edu/ml/datasets/Mushroom), таблица `agaricus-lepiota.data`**\n",
        "\n",
        "Первый столбец — целевая переменная (e — edible, p — poisonous)."
      ]
    },
    {
      "cell_type": "code",
      "execution_count": null,
      "metadata": {
        "id": "5vFAwblS0rse"
      },
      "outputs": [],
      "source": [
        "data = pd.read_csv('08_trees_rf.data')"
      ]
    },
    {
      "cell_type": "code",
      "execution_count": null,
      "metadata": {
        "colab": {
          "base_uri": "https://localhost:8080/",
          "height": 229
        },
        "id": "WrD2PPIxamVD",
        "outputId": "126db1da-b650-497b-d0bb-cf76344b9b7b"
      },
      "outputs": [
        {
          "data": {
            "application/vnd.google.colaboratory.intrinsic+json": {
              "type": "dataframe",
              "variable_name": "data"
            },
            "text/html": [
              "\n",
              "  <div id=\"df-051ee7e8-577f-4b1a-a125-6d51b9e1aed5\" class=\"colab-df-container\">\n",
              "    <div>\n",
              "<style scoped>\n",
              "    .dataframe tbody tr th:only-of-type {\n",
              "        vertical-align: middle;\n",
              "    }\n",
              "\n",
              "    .dataframe tbody tr th {\n",
              "        vertical-align: top;\n",
              "    }\n",
              "\n",
              "    .dataframe thead th {\n",
              "        text-align: right;\n",
              "    }\n",
              "</style>\n",
              "<table border=\"1\" class=\"dataframe\">\n",
              "  <thead>\n",
              "    <tr style=\"text-align: right;\">\n",
              "      <th></th>\n",
              "      <th>p</th>\n",
              "      <th>x</th>\n",
              "      <th>s</th>\n",
              "      <th>n</th>\n",
              "      <th>t</th>\n",
              "      <th>p.1</th>\n",
              "      <th>f</th>\n",
              "      <th>c</th>\n",
              "      <th>n.1</th>\n",
              "      <th>k</th>\n",
              "      <th>...</th>\n",
              "      <th>s.2</th>\n",
              "      <th>w</th>\n",
              "      <th>w.1</th>\n",
              "      <th>p.2</th>\n",
              "      <th>w.2</th>\n",
              "      <th>o</th>\n",
              "      <th>p.3</th>\n",
              "      <th>k.1</th>\n",
              "      <th>s.3</th>\n",
              "      <th>u</th>\n",
              "    </tr>\n",
              "  </thead>\n",
              "  <tbody>\n",
              "    <tr>\n",
              "      <th>0</th>\n",
              "      <td>e</td>\n",
              "      <td>x</td>\n",
              "      <td>s</td>\n",
              "      <td>y</td>\n",
              "      <td>t</td>\n",
              "      <td>a</td>\n",
              "      <td>f</td>\n",
              "      <td>c</td>\n",
              "      <td>b</td>\n",
              "      <td>k</td>\n",
              "      <td>...</td>\n",
              "      <td>s</td>\n",
              "      <td>w</td>\n",
              "      <td>w</td>\n",
              "      <td>p</td>\n",
              "      <td>w</td>\n",
              "      <td>o</td>\n",
              "      <td>p</td>\n",
              "      <td>n</td>\n",
              "      <td>n</td>\n",
              "      <td>g</td>\n",
              "    </tr>\n",
              "    <tr>\n",
              "      <th>1</th>\n",
              "      <td>e</td>\n",
              "      <td>b</td>\n",
              "      <td>s</td>\n",
              "      <td>w</td>\n",
              "      <td>t</td>\n",
              "      <td>l</td>\n",
              "      <td>f</td>\n",
              "      <td>c</td>\n",
              "      <td>b</td>\n",
              "      <td>n</td>\n",
              "      <td>...</td>\n",
              "      <td>s</td>\n",
              "      <td>w</td>\n",
              "      <td>w</td>\n",
              "      <td>p</td>\n",
              "      <td>w</td>\n",
              "      <td>o</td>\n",
              "      <td>p</td>\n",
              "      <td>n</td>\n",
              "      <td>n</td>\n",
              "      <td>m</td>\n",
              "    </tr>\n",
              "    <tr>\n",
              "      <th>2</th>\n",
              "      <td>p</td>\n",
              "      <td>x</td>\n",
              "      <td>y</td>\n",
              "      <td>w</td>\n",
              "      <td>t</td>\n",
              "      <td>p</td>\n",
              "      <td>f</td>\n",
              "      <td>c</td>\n",
              "      <td>n</td>\n",
              "      <td>n</td>\n",
              "      <td>...</td>\n",
              "      <td>s</td>\n",
              "      <td>w</td>\n",
              "      <td>w</td>\n",
              "      <td>p</td>\n",
              "      <td>w</td>\n",
              "      <td>o</td>\n",
              "      <td>p</td>\n",
              "      <td>k</td>\n",
              "      <td>s</td>\n",
              "      <td>u</td>\n",
              "    </tr>\n",
              "    <tr>\n",
              "      <th>3</th>\n",
              "      <td>e</td>\n",
              "      <td>x</td>\n",
              "      <td>s</td>\n",
              "      <td>g</td>\n",
              "      <td>f</td>\n",
              "      <td>n</td>\n",
              "      <td>f</td>\n",
              "      <td>w</td>\n",
              "      <td>b</td>\n",
              "      <td>k</td>\n",
              "      <td>...</td>\n",
              "      <td>s</td>\n",
              "      <td>w</td>\n",
              "      <td>w</td>\n",
              "      <td>p</td>\n",
              "      <td>w</td>\n",
              "      <td>o</td>\n",
              "      <td>e</td>\n",
              "      <td>n</td>\n",
              "      <td>a</td>\n",
              "      <td>g</td>\n",
              "    </tr>\n",
              "    <tr>\n",
              "      <th>4</th>\n",
              "      <td>e</td>\n",
              "      <td>x</td>\n",
              "      <td>y</td>\n",
              "      <td>y</td>\n",
              "      <td>t</td>\n",
              "      <td>a</td>\n",
              "      <td>f</td>\n",
              "      <td>c</td>\n",
              "      <td>b</td>\n",
              "      <td>n</td>\n",
              "      <td>...</td>\n",
              "      <td>s</td>\n",
              "      <td>w</td>\n",
              "      <td>w</td>\n",
              "      <td>p</td>\n",
              "      <td>w</td>\n",
              "      <td>o</td>\n",
              "      <td>p</td>\n",
              "      <td>k</td>\n",
              "      <td>n</td>\n",
              "      <td>g</td>\n",
              "    </tr>\n",
              "  </tbody>\n",
              "</table>\n",
              "<p>5 rows × 23 columns</p>\n",
              "</div>\n",
              "    <div class=\"colab-df-buttons\">\n",
              "\n",
              "  <div class=\"colab-df-container\">\n",
              "    <button class=\"colab-df-convert\" onclick=\"convertToInteractive('df-051ee7e8-577f-4b1a-a125-6d51b9e1aed5')\"\n",
              "            title=\"Convert this dataframe to an interactive table.\"\n",
              "            style=\"display:none;\">\n",
              "\n",
              "  <svg xmlns=\"http://www.w3.org/2000/svg\" height=\"24px\" viewBox=\"0 -960 960 960\">\n",
              "    <path d=\"M120-120v-720h720v720H120Zm60-500h600v-160H180v160Zm220 220h160v-160H400v160Zm0 220h160v-160H400v160ZM180-400h160v-160H180v160Zm440 0h160v-160H620v160ZM180-180h160v-160H180v160Zm440 0h160v-160H620v160Z\"/>\n",
              "  </svg>\n",
              "    </button>\n",
              "\n",
              "  <style>\n",
              "    .colab-df-container {\n",
              "      display:flex;\n",
              "      gap: 12px;\n",
              "    }\n",
              "\n",
              "    .colab-df-convert {\n",
              "      background-color: #E8F0FE;\n",
              "      border: none;\n",
              "      border-radius: 50%;\n",
              "      cursor: pointer;\n",
              "      display: none;\n",
              "      fill: #1967D2;\n",
              "      height: 32px;\n",
              "      padding: 0 0 0 0;\n",
              "      width: 32px;\n",
              "    }\n",
              "\n",
              "    .colab-df-convert:hover {\n",
              "      background-color: #E2EBFA;\n",
              "      box-shadow: 0px 1px 2px rgba(60, 64, 67, 0.3), 0px 1px 3px 1px rgba(60, 64, 67, 0.15);\n",
              "      fill: #174EA6;\n",
              "    }\n",
              "\n",
              "    .colab-df-buttons div {\n",
              "      margin-bottom: 4px;\n",
              "    }\n",
              "\n",
              "    [theme=dark] .colab-df-convert {\n",
              "      background-color: #3B4455;\n",
              "      fill: #D2E3FC;\n",
              "    }\n",
              "\n",
              "    [theme=dark] .colab-df-convert:hover {\n",
              "      background-color: #434B5C;\n",
              "      box-shadow: 0px 1px 3px 1px rgba(0, 0, 0, 0.15);\n",
              "      filter: drop-shadow(0px 1px 2px rgba(0, 0, 0, 0.3));\n",
              "      fill: #FFFFFF;\n",
              "    }\n",
              "  </style>\n",
              "\n",
              "    <script>\n",
              "      const buttonEl =\n",
              "        document.querySelector('#df-051ee7e8-577f-4b1a-a125-6d51b9e1aed5 button.colab-df-convert');\n",
              "      buttonEl.style.display =\n",
              "        google.colab.kernel.accessAllowed ? 'block' : 'none';\n",
              "\n",
              "      async function convertToInteractive(key) {\n",
              "        const element = document.querySelector('#df-051ee7e8-577f-4b1a-a125-6d51b9e1aed5');\n",
              "        const dataTable =\n",
              "          await google.colab.kernel.invokeFunction('convertToInteractive',\n",
              "                                                    [key], {});\n",
              "        if (!dataTable) return;\n",
              "\n",
              "        const docLinkHtml = 'Like what you see? Visit the ' +\n",
              "          '<a target=\"_blank\" href=https://colab.research.google.com/notebooks/data_table.ipynb>data table notebook</a>'\n",
              "          + ' to learn more about interactive tables.';\n",
              "        element.innerHTML = '';\n",
              "        dataTable['output_type'] = 'display_data';\n",
              "        await google.colab.output.renderOutput(dataTable, element);\n",
              "        const docLink = document.createElement('div');\n",
              "        docLink.innerHTML = docLinkHtml;\n",
              "        element.appendChild(docLink);\n",
              "      }\n",
              "    </script>\n",
              "  </div>\n",
              "\n",
              "\n",
              "<div id=\"df-2789df2f-a970-43db-af2e-ca4830bae7b4\">\n",
              "  <button class=\"colab-df-quickchart\" onclick=\"quickchart('df-2789df2f-a970-43db-af2e-ca4830bae7b4')\"\n",
              "            title=\"Suggest charts\"\n",
              "            style=\"display:none;\">\n",
              "\n",
              "<svg xmlns=\"http://www.w3.org/2000/svg\" height=\"24px\"viewBox=\"0 0 24 24\"\n",
              "     width=\"24px\">\n",
              "    <g>\n",
              "        <path d=\"M19 3H5c-1.1 0-2 .9-2 2v14c0 1.1.9 2 2 2h14c1.1 0 2-.9 2-2V5c0-1.1-.9-2-2-2zM9 17H7v-7h2v7zm4 0h-2V7h2v10zm4 0h-2v-4h2v4z\"/>\n",
              "    </g>\n",
              "</svg>\n",
              "  </button>\n",
              "\n",
              "<style>\n",
              "  .colab-df-quickchart {\n",
              "      --bg-color: #E8F0FE;\n",
              "      --fill-color: #1967D2;\n",
              "      --hover-bg-color: #E2EBFA;\n",
              "      --hover-fill-color: #174EA6;\n",
              "      --disabled-fill-color: #AAA;\n",
              "      --disabled-bg-color: #DDD;\n",
              "  }\n",
              "\n",
              "  [theme=dark] .colab-df-quickchart {\n",
              "      --bg-color: #3B4455;\n",
              "      --fill-color: #D2E3FC;\n",
              "      --hover-bg-color: #434B5C;\n",
              "      --hover-fill-color: #FFFFFF;\n",
              "      --disabled-bg-color: #3B4455;\n",
              "      --disabled-fill-color: #666;\n",
              "  }\n",
              "\n",
              "  .colab-df-quickchart {\n",
              "    background-color: var(--bg-color);\n",
              "    border: none;\n",
              "    border-radius: 50%;\n",
              "    cursor: pointer;\n",
              "    display: none;\n",
              "    fill: var(--fill-color);\n",
              "    height: 32px;\n",
              "    padding: 0;\n",
              "    width: 32px;\n",
              "  }\n",
              "\n",
              "  .colab-df-quickchart:hover {\n",
              "    background-color: var(--hover-bg-color);\n",
              "    box-shadow: 0 1px 2px rgba(60, 64, 67, 0.3), 0 1px 3px 1px rgba(60, 64, 67, 0.15);\n",
              "    fill: var(--button-hover-fill-color);\n",
              "  }\n",
              "\n",
              "  .colab-df-quickchart-complete:disabled,\n",
              "  .colab-df-quickchart-complete:disabled:hover {\n",
              "    background-color: var(--disabled-bg-color);\n",
              "    fill: var(--disabled-fill-color);\n",
              "    box-shadow: none;\n",
              "  }\n",
              "\n",
              "  .colab-df-spinner {\n",
              "    border: 2px solid var(--fill-color);\n",
              "    border-color: transparent;\n",
              "    border-bottom-color: var(--fill-color);\n",
              "    animation:\n",
              "      spin 1s steps(1) infinite;\n",
              "  }\n",
              "\n",
              "  @keyframes spin {\n",
              "    0% {\n",
              "      border-color: transparent;\n",
              "      border-bottom-color: var(--fill-color);\n",
              "      border-left-color: var(--fill-color);\n",
              "    }\n",
              "    20% {\n",
              "      border-color: transparent;\n",
              "      border-left-color: var(--fill-color);\n",
              "      border-top-color: var(--fill-color);\n",
              "    }\n",
              "    30% {\n",
              "      border-color: transparent;\n",
              "      border-left-color: var(--fill-color);\n",
              "      border-top-color: var(--fill-color);\n",
              "      border-right-color: var(--fill-color);\n",
              "    }\n",
              "    40% {\n",
              "      border-color: transparent;\n",
              "      border-right-color: var(--fill-color);\n",
              "      border-top-color: var(--fill-color);\n",
              "    }\n",
              "    60% {\n",
              "      border-color: transparent;\n",
              "      border-right-color: var(--fill-color);\n",
              "    }\n",
              "    80% {\n",
              "      border-color: transparent;\n",
              "      border-right-color: var(--fill-color);\n",
              "      border-bottom-color: var(--fill-color);\n",
              "    }\n",
              "    90% {\n",
              "      border-color: transparent;\n",
              "      border-bottom-color: var(--fill-color);\n",
              "    }\n",
              "  }\n",
              "</style>\n",
              "\n",
              "  <script>\n",
              "    async function quickchart(key) {\n",
              "      const quickchartButtonEl =\n",
              "        document.querySelector('#' + key + ' button');\n",
              "      quickchartButtonEl.disabled = true;  // To prevent multiple clicks.\n",
              "      quickchartButtonEl.classList.add('colab-df-spinner');\n",
              "      try {\n",
              "        const charts = await google.colab.kernel.invokeFunction(\n",
              "            'suggestCharts', [key], {});\n",
              "      } catch (error) {\n",
              "        console.error('Error during call to suggestCharts:', error);\n",
              "      }\n",
              "      quickchartButtonEl.classList.remove('colab-df-spinner');\n",
              "      quickchartButtonEl.classList.add('colab-df-quickchart-complete');\n",
              "    }\n",
              "    (() => {\n",
              "      let quickchartButtonEl =\n",
              "        document.querySelector('#df-2789df2f-a970-43db-af2e-ca4830bae7b4 button');\n",
              "      quickchartButtonEl.style.display =\n",
              "        google.colab.kernel.accessAllowed ? 'block' : 'none';\n",
              "    })();\n",
              "  </script>\n",
              "</div>\n",
              "    </div>\n",
              "  </div>\n"
            ],
            "text/plain": [
              "   p  x  s  n  t p.1  f  c n.1  k  ... s.2  w w.1 p.2 w.2  o p.3 k.1 s.3  u\n",
              "0  e  x  s  y  t   a  f  c   b  k  ...   s  w   w   p   w  o   p   n   n  g\n",
              "1  e  b  s  w  t   l  f  c   b  n  ...   s  w   w   p   w  o   p   n   n  m\n",
              "2  p  x  y  w  t   p  f  c   n  n  ...   s  w   w   p   w  o   p   k   s  u\n",
              "3  e  x  s  g  f   n  f  w   b  k  ...   s  w   w   p   w  o   e   n   a  g\n",
              "4  e  x  y  y  t   a  f  c   b  n  ...   s  w   w   p   w  o   p   k   n  g\n",
              "\n",
              "[5 rows x 23 columns]"
            ]
          },
          "execution_count": 32,
          "metadata": {},
          "output_type": "execute_result"
        }
      ],
      "source": [
        "data.head()"
      ]
    },
    {
      "cell_type": "markdown",
      "metadata": {
        "id": "BK4GrVprhiap"
      },
      "source": [
        "Обработка категориальных признаков."
      ]
    },
    {
      "cell_type": "code",
      "execution_count": null,
      "metadata": {
        "colab": {
          "base_uri": "https://localhost:8080/",
          "height": 229
        },
        "id": "wDuGedWUH8Sj",
        "outputId": "cb8b2a23-84a9-42f7-ecd7-8da1f848c37d"
      },
      "outputs": [
        {
          "data": {
            "application/vnd.google.colaboratory.intrinsic+json": {
              "type": "dataframe",
              "variable_name": "data"
            },
            "text/html": [
              "\n",
              "  <div id=\"df-65913af4-fc9c-4e36-81b7-d8cde284777c\" class=\"colab-df-container\">\n",
              "    <div>\n",
              "<style scoped>\n",
              "    .dataframe tbody tr th:only-of-type {\n",
              "        vertical-align: middle;\n",
              "    }\n",
              "\n",
              "    .dataframe tbody tr th {\n",
              "        vertical-align: top;\n",
              "    }\n",
              "\n",
              "    .dataframe thead th {\n",
              "        text-align: right;\n",
              "    }\n",
              "</style>\n",
              "<table border=\"1\" class=\"dataframe\">\n",
              "  <thead>\n",
              "    <tr style=\"text-align: right;\">\n",
              "      <th></th>\n",
              "      <th>p</th>\n",
              "      <th>x</th>\n",
              "      <th>s</th>\n",
              "      <th>n</th>\n",
              "      <th>t</th>\n",
              "      <th>p.1</th>\n",
              "      <th>f</th>\n",
              "      <th>c</th>\n",
              "      <th>n.1</th>\n",
              "      <th>k</th>\n",
              "      <th>...</th>\n",
              "      <th>s.2</th>\n",
              "      <th>w</th>\n",
              "      <th>w.1</th>\n",
              "      <th>p.2</th>\n",
              "      <th>w.2</th>\n",
              "      <th>o</th>\n",
              "      <th>p.3</th>\n",
              "      <th>k.1</th>\n",
              "      <th>s.3</th>\n",
              "      <th>u</th>\n",
              "    </tr>\n",
              "  </thead>\n",
              "  <tbody>\n",
              "    <tr>\n",
              "      <th>0</th>\n",
              "      <td>0</td>\n",
              "      <td>5</td>\n",
              "      <td>2</td>\n",
              "      <td>9</td>\n",
              "      <td>1</td>\n",
              "      <td>0</td>\n",
              "      <td>1</td>\n",
              "      <td>0</td>\n",
              "      <td>0</td>\n",
              "      <td>4</td>\n",
              "      <td>...</td>\n",
              "      <td>2</td>\n",
              "      <td>7</td>\n",
              "      <td>7</td>\n",
              "      <td>0</td>\n",
              "      <td>2</td>\n",
              "      <td>1</td>\n",
              "      <td>4</td>\n",
              "      <td>3</td>\n",
              "      <td>2</td>\n",
              "      <td>1</td>\n",
              "    </tr>\n",
              "    <tr>\n",
              "      <th>1</th>\n",
              "      <td>0</td>\n",
              "      <td>0</td>\n",
              "      <td>2</td>\n",
              "      <td>8</td>\n",
              "      <td>1</td>\n",
              "      <td>3</td>\n",
              "      <td>1</td>\n",
              "      <td>0</td>\n",
              "      <td>0</td>\n",
              "      <td>5</td>\n",
              "      <td>...</td>\n",
              "      <td>2</td>\n",
              "      <td>7</td>\n",
              "      <td>7</td>\n",
              "      <td>0</td>\n",
              "      <td>2</td>\n",
              "      <td>1</td>\n",
              "      <td>4</td>\n",
              "      <td>3</td>\n",
              "      <td>2</td>\n",
              "      <td>3</td>\n",
              "    </tr>\n",
              "    <tr>\n",
              "      <th>2</th>\n",
              "      <td>1</td>\n",
              "      <td>5</td>\n",
              "      <td>3</td>\n",
              "      <td>8</td>\n",
              "      <td>1</td>\n",
              "      <td>6</td>\n",
              "      <td>1</td>\n",
              "      <td>0</td>\n",
              "      <td>1</td>\n",
              "      <td>5</td>\n",
              "      <td>...</td>\n",
              "      <td>2</td>\n",
              "      <td>7</td>\n",
              "      <td>7</td>\n",
              "      <td>0</td>\n",
              "      <td>2</td>\n",
              "      <td>1</td>\n",
              "      <td>4</td>\n",
              "      <td>2</td>\n",
              "      <td>3</td>\n",
              "      <td>5</td>\n",
              "    </tr>\n",
              "    <tr>\n",
              "      <th>3</th>\n",
              "      <td>0</td>\n",
              "      <td>5</td>\n",
              "      <td>2</td>\n",
              "      <td>3</td>\n",
              "      <td>0</td>\n",
              "      <td>5</td>\n",
              "      <td>1</td>\n",
              "      <td>1</td>\n",
              "      <td>0</td>\n",
              "      <td>4</td>\n",
              "      <td>...</td>\n",
              "      <td>2</td>\n",
              "      <td>7</td>\n",
              "      <td>7</td>\n",
              "      <td>0</td>\n",
              "      <td>2</td>\n",
              "      <td>1</td>\n",
              "      <td>0</td>\n",
              "      <td>3</td>\n",
              "      <td>0</td>\n",
              "      <td>1</td>\n",
              "    </tr>\n",
              "    <tr>\n",
              "      <th>4</th>\n",
              "      <td>0</td>\n",
              "      <td>5</td>\n",
              "      <td>3</td>\n",
              "      <td>9</td>\n",
              "      <td>1</td>\n",
              "      <td>0</td>\n",
              "      <td>1</td>\n",
              "      <td>0</td>\n",
              "      <td>0</td>\n",
              "      <td>5</td>\n",
              "      <td>...</td>\n",
              "      <td>2</td>\n",
              "      <td>7</td>\n",
              "      <td>7</td>\n",
              "      <td>0</td>\n",
              "      <td>2</td>\n",
              "      <td>1</td>\n",
              "      <td>4</td>\n",
              "      <td>2</td>\n",
              "      <td>2</td>\n",
              "      <td>1</td>\n",
              "    </tr>\n",
              "  </tbody>\n",
              "</table>\n",
              "<p>5 rows × 23 columns</p>\n",
              "</div>\n",
              "    <div class=\"colab-df-buttons\">\n",
              "\n",
              "  <div class=\"colab-df-container\">\n",
              "    <button class=\"colab-df-convert\" onclick=\"convertToInteractive('df-65913af4-fc9c-4e36-81b7-d8cde284777c')\"\n",
              "            title=\"Convert this dataframe to an interactive table.\"\n",
              "            style=\"display:none;\">\n",
              "\n",
              "  <svg xmlns=\"http://www.w3.org/2000/svg\" height=\"24px\" viewBox=\"0 -960 960 960\">\n",
              "    <path d=\"M120-120v-720h720v720H120Zm60-500h600v-160H180v160Zm220 220h160v-160H400v160Zm0 220h160v-160H400v160ZM180-400h160v-160H180v160Zm440 0h160v-160H620v160ZM180-180h160v-160H180v160Zm440 0h160v-160H620v160Z\"/>\n",
              "  </svg>\n",
              "    </button>\n",
              "\n",
              "  <style>\n",
              "    .colab-df-container {\n",
              "      display:flex;\n",
              "      gap: 12px;\n",
              "    }\n",
              "\n",
              "    .colab-df-convert {\n",
              "      background-color: #E8F0FE;\n",
              "      border: none;\n",
              "      border-radius: 50%;\n",
              "      cursor: pointer;\n",
              "      display: none;\n",
              "      fill: #1967D2;\n",
              "      height: 32px;\n",
              "      padding: 0 0 0 0;\n",
              "      width: 32px;\n",
              "    }\n",
              "\n",
              "    .colab-df-convert:hover {\n",
              "      background-color: #E2EBFA;\n",
              "      box-shadow: 0px 1px 2px rgba(60, 64, 67, 0.3), 0px 1px 3px 1px rgba(60, 64, 67, 0.15);\n",
              "      fill: #174EA6;\n",
              "    }\n",
              "\n",
              "    .colab-df-buttons div {\n",
              "      margin-bottom: 4px;\n",
              "    }\n",
              "\n",
              "    [theme=dark] .colab-df-convert {\n",
              "      background-color: #3B4455;\n",
              "      fill: #D2E3FC;\n",
              "    }\n",
              "\n",
              "    [theme=dark] .colab-df-convert:hover {\n",
              "      background-color: #434B5C;\n",
              "      box-shadow: 0px 1px 3px 1px rgba(0, 0, 0, 0.15);\n",
              "      filter: drop-shadow(0px 1px 2px rgba(0, 0, 0, 0.3));\n",
              "      fill: #FFFFFF;\n",
              "    }\n",
              "  </style>\n",
              "\n",
              "    <script>\n",
              "      const buttonEl =\n",
              "        document.querySelector('#df-65913af4-fc9c-4e36-81b7-d8cde284777c button.colab-df-convert');\n",
              "      buttonEl.style.display =\n",
              "        google.colab.kernel.accessAllowed ? 'block' : 'none';\n",
              "\n",
              "      async function convertToInteractive(key) {\n",
              "        const element = document.querySelector('#df-65913af4-fc9c-4e36-81b7-d8cde284777c');\n",
              "        const dataTable =\n",
              "          await google.colab.kernel.invokeFunction('convertToInteractive',\n",
              "                                                    [key], {});\n",
              "        if (!dataTable) return;\n",
              "\n",
              "        const docLinkHtml = 'Like what you see? Visit the ' +\n",
              "          '<a target=\"_blank\" href=https://colab.research.google.com/notebooks/data_table.ipynb>data table notebook</a>'\n",
              "          + ' to learn more about interactive tables.';\n",
              "        element.innerHTML = '';\n",
              "        dataTable['output_type'] = 'display_data';\n",
              "        await google.colab.output.renderOutput(dataTable, element);\n",
              "        const docLink = document.createElement('div');\n",
              "        docLink.innerHTML = docLinkHtml;\n",
              "        element.appendChild(docLink);\n",
              "      }\n",
              "    </script>\n",
              "  </div>\n",
              "\n",
              "\n",
              "<div id=\"df-65ea8930-d330-41c5-a6c2-ec76748780dc\">\n",
              "  <button class=\"colab-df-quickchart\" onclick=\"quickchart('df-65ea8930-d330-41c5-a6c2-ec76748780dc')\"\n",
              "            title=\"Suggest charts\"\n",
              "            style=\"display:none;\">\n",
              "\n",
              "<svg xmlns=\"http://www.w3.org/2000/svg\" height=\"24px\"viewBox=\"0 0 24 24\"\n",
              "     width=\"24px\">\n",
              "    <g>\n",
              "        <path d=\"M19 3H5c-1.1 0-2 .9-2 2v14c0 1.1.9 2 2 2h14c1.1 0 2-.9 2-2V5c0-1.1-.9-2-2-2zM9 17H7v-7h2v7zm4 0h-2V7h2v10zm4 0h-2v-4h2v4z\"/>\n",
              "    </g>\n",
              "</svg>\n",
              "  </button>\n",
              "\n",
              "<style>\n",
              "  .colab-df-quickchart {\n",
              "      --bg-color: #E8F0FE;\n",
              "      --fill-color: #1967D2;\n",
              "      --hover-bg-color: #E2EBFA;\n",
              "      --hover-fill-color: #174EA6;\n",
              "      --disabled-fill-color: #AAA;\n",
              "      --disabled-bg-color: #DDD;\n",
              "  }\n",
              "\n",
              "  [theme=dark] .colab-df-quickchart {\n",
              "      --bg-color: #3B4455;\n",
              "      --fill-color: #D2E3FC;\n",
              "      --hover-bg-color: #434B5C;\n",
              "      --hover-fill-color: #FFFFFF;\n",
              "      --disabled-bg-color: #3B4455;\n",
              "      --disabled-fill-color: #666;\n",
              "  }\n",
              "\n",
              "  .colab-df-quickchart {\n",
              "    background-color: var(--bg-color);\n",
              "    border: none;\n",
              "    border-radius: 50%;\n",
              "    cursor: pointer;\n",
              "    display: none;\n",
              "    fill: var(--fill-color);\n",
              "    height: 32px;\n",
              "    padding: 0;\n",
              "    width: 32px;\n",
              "  }\n",
              "\n",
              "  .colab-df-quickchart:hover {\n",
              "    background-color: var(--hover-bg-color);\n",
              "    box-shadow: 0 1px 2px rgba(60, 64, 67, 0.3), 0 1px 3px 1px rgba(60, 64, 67, 0.15);\n",
              "    fill: var(--button-hover-fill-color);\n",
              "  }\n",
              "\n",
              "  .colab-df-quickchart-complete:disabled,\n",
              "  .colab-df-quickchart-complete:disabled:hover {\n",
              "    background-color: var(--disabled-bg-color);\n",
              "    fill: var(--disabled-fill-color);\n",
              "    box-shadow: none;\n",
              "  }\n",
              "\n",
              "  .colab-df-spinner {\n",
              "    border: 2px solid var(--fill-color);\n",
              "    border-color: transparent;\n",
              "    border-bottom-color: var(--fill-color);\n",
              "    animation:\n",
              "      spin 1s steps(1) infinite;\n",
              "  }\n",
              "\n",
              "  @keyframes spin {\n",
              "    0% {\n",
              "      border-color: transparent;\n",
              "      border-bottom-color: var(--fill-color);\n",
              "      border-left-color: var(--fill-color);\n",
              "    }\n",
              "    20% {\n",
              "      border-color: transparent;\n",
              "      border-left-color: var(--fill-color);\n",
              "      border-top-color: var(--fill-color);\n",
              "    }\n",
              "    30% {\n",
              "      border-color: transparent;\n",
              "      border-left-color: var(--fill-color);\n",
              "      border-top-color: var(--fill-color);\n",
              "      border-right-color: var(--fill-color);\n",
              "    }\n",
              "    40% {\n",
              "      border-color: transparent;\n",
              "      border-right-color: var(--fill-color);\n",
              "      border-top-color: var(--fill-color);\n",
              "    }\n",
              "    60% {\n",
              "      border-color: transparent;\n",
              "      border-right-color: var(--fill-color);\n",
              "    }\n",
              "    80% {\n",
              "      border-color: transparent;\n",
              "      border-right-color: var(--fill-color);\n",
              "      border-bottom-color: var(--fill-color);\n",
              "    }\n",
              "    90% {\n",
              "      border-color: transparent;\n",
              "      border-bottom-color: var(--fill-color);\n",
              "    }\n",
              "  }\n",
              "</style>\n",
              "\n",
              "  <script>\n",
              "    async function quickchart(key) {\n",
              "      const quickchartButtonEl =\n",
              "        document.querySelector('#' + key + ' button');\n",
              "      quickchartButtonEl.disabled = true;  // To prevent multiple clicks.\n",
              "      quickchartButtonEl.classList.add('colab-df-spinner');\n",
              "      try {\n",
              "        const charts = await google.colab.kernel.invokeFunction(\n",
              "            'suggestCharts', [key], {});\n",
              "      } catch (error) {\n",
              "        console.error('Error during call to suggestCharts:', error);\n",
              "      }\n",
              "      quickchartButtonEl.classList.remove('colab-df-spinner');\n",
              "      quickchartButtonEl.classList.add('colab-df-quickchart-complete');\n",
              "    }\n",
              "    (() => {\n",
              "      let quickchartButtonEl =\n",
              "        document.querySelector('#df-65ea8930-d330-41c5-a6c2-ec76748780dc button');\n",
              "      quickchartButtonEl.style.display =\n",
              "        google.colab.kernel.accessAllowed ? 'block' : 'none';\n",
              "    })();\n",
              "  </script>\n",
              "</div>\n",
              "    </div>\n",
              "  </div>\n"
            ],
            "text/plain": [
              "   p  x  s  n  t  p.1  f  c  n.1  k  ...  s.2  w  w.1  p.2  w.2  o  p.3  k.1  \\\n",
              "0  0  5  2  9  1    0  1  0    0  4  ...    2  7    7    0    2  1    4    3   \n",
              "1  0  0  2  8  1    3  1  0    0  5  ...    2  7    7    0    2  1    4    3   \n",
              "2  1  5  3  8  1    6  1  0    1  5  ...    2  7    7    0    2  1    4    2   \n",
              "3  0  5  2  3  0    5  1  1    0  4  ...    2  7    7    0    2  1    0    3   \n",
              "4  0  5  3  9  1    0  1  0    0  5  ...    2  7    7    0    2  1    4    2   \n",
              "\n",
              "   s.3  u  \n",
              "0    2  1  \n",
              "1    2  3  \n",
              "2    3  5  \n",
              "3    0  1  \n",
              "4    2  1  \n",
              "\n",
              "[5 rows x 23 columns]"
            ]
          },
          "execution_count": 33,
          "metadata": {},
          "output_type": "execute_result"
        }
      ],
      "source": [
        "from sklearn.preprocessing import LabelEncoder\n",
        "label_encoder = LabelEncoder()\n",
        "data = data.apply(label_encoder.fit_transform, axis=0) # применение к каждому столбцу для преобразования строковых имен категорий в натуральные числа\n",
        "data.head()"
      ]
    },
    {
      "cell_type": "code",
      "execution_count": null,
      "metadata": {
        "id": "Bt8SkpiIfSca"
      },
      "outputs": [],
      "source": [
        "y = data['p']\n",
        "data = data.drop(['p'], axis=1)"
      ]
    },
    {
      "cell_type": "markdown",
      "metadata": {
        "id": "4T5vXPq0ntPQ"
      },
      "source": [
        "Обучение решающего дерева на половине случайно выбранных объектов и предсказания для оставшейся половины."
      ]
    },
    {
      "cell_type": "code",
      "execution_count": null,
      "metadata": {
        "id": "F01i54p7d636"
      },
      "outputs": [],
      "source": [
        "from sklearn.model_selection import train_test_split\n",
        "data_train, data_test, y_train, y_test = train_test_split(data, y, test_size=0.5, random_state=42)"
      ]
    },
    {
      "cell_type": "code",
      "execution_count": null,
      "metadata": {
        "id": "UYrCLuZaihTn"
      },
      "outputs": [],
      "source": [
        "feature_types = ['categorical'] * len(data.columns)"
      ]
    },
    {
      "cell_type": "code",
      "execution_count": null,
      "metadata": {
        "id": "26BCYotxh9oT"
      },
      "outputs": [],
      "source": [
        "tree = DecisionTree(feature_types=feature_types)\n",
        "tree.fit(data_train.values, np.array(y_train))"
      ]
    },
    {
      "cell_type": "code",
      "execution_count": null,
      "metadata": {
        "id": "cE6-hTz00cyE"
      },
      "outputs": [],
      "source": [
        "predictions = tree.predict(data_test.values)"
      ]
    },
    {
      "cell_type": "code",
      "execution_count": null,
      "metadata": {
        "colab": {
          "base_uri": "https://localhost:8080/"
        },
        "id": "ZJ6GAMfu1amD",
        "outputId": "1ce95e00-0dbd-43be-d87d-5b39365ef6fb"
      },
      "outputs": [
        {
          "data": {
            "text/plain": [
              "1.0"
            ]
          },
          "execution_count": 39,
          "metadata": {},
          "output_type": "execute_result"
        }
      ],
      "source": [
        "def accuracy(y_test, predictions):\n",
        "  return np.sum(y_test == predictions) / len(y_test)\n",
        "accuracy(y_test, predictions)"
      ]
    },
    {
      "cell_type": "markdown",
      "metadata": {
        "id": "tUG4Jej10rse"
      },
      "source": [
        "#### 3. Бэггинг и случайный лес"
      ]
    },
    {
      "cell_type": "markdown",
      "metadata": {
        "id": "QGR9vXi60rse"
      },
      "source": [
        "Решение [задачи предсказания диабета у пациента](https://www.kaggle.com/uciml/pima-indians-diabetes-database/data)."
      ]
    },
    {
      "cell_type": "code",
      "execution_count": null,
      "metadata": {
        "id": "7UHEWSB00rse"
      },
      "outputs": [],
      "source": [
        "from sklearn.ensemble import BaggingClassifier, RandomForestClassifier\n",
        "from sklearn.metrics import accuracy_score, precision_score, recall_score, roc_auc_score\n",
        "from sklearn.model_selection import train_test_split\n",
        "from sklearn.tree import DecisionTreeClassifier"
      ]
    },
    {
      "cell_type": "code",
      "execution_count": null,
      "metadata": {
        "colab": {
          "base_uri": "https://localhost:8080/",
          "height": 217
        },
        "id": "acwED0sY0rse",
        "outputId": "126f9fa8-48b2-47c7-9354-574295b5b669",
        "scrolled": true
      },
      "outputs": [
        {
          "name": "stdout",
          "output_type": "stream",
          "text": [
            "Dataset shape: (768, 9)\n"
          ]
        },
        {
          "data": {
            "application/vnd.google.colaboratory.intrinsic+json": {
              "summary": "{\n  \"name\": \"data\",\n  \"rows\": 768,\n  \"fields\": [\n    {\n      \"column\": \"Pregnancies\",\n      \"properties\": {\n        \"dtype\": \"number\",\n        \"std\": 3,\n        \"min\": 0,\n        \"max\": 17,\n        \"num_unique_values\": 17,\n        \"samples\": [\n          6,\n          1,\n          3\n        ],\n        \"semantic_type\": \"\",\n        \"description\": \"\"\n      }\n    },\n    {\n      \"column\": \"Glucose\",\n      \"properties\": {\n        \"dtype\": \"number\",\n        \"std\": 31,\n        \"min\": 0,\n        \"max\": 199,\n        \"num_unique_values\": 136,\n        \"samples\": [\n          151,\n          101,\n          112\n        ],\n        \"semantic_type\": \"\",\n        \"description\": \"\"\n      }\n    },\n    {\n      \"column\": \"BloodPressure\",\n      \"properties\": {\n        \"dtype\": \"number\",\n        \"std\": 19,\n        \"min\": 0,\n        \"max\": 122,\n        \"num_unique_values\": 47,\n        \"samples\": [\n          86,\n          46,\n          85\n        ],\n        \"semantic_type\": \"\",\n        \"description\": \"\"\n      }\n    },\n    {\n      \"column\": \"SkinThickness\",\n      \"properties\": {\n        \"dtype\": \"number\",\n        \"std\": 15,\n        \"min\": 0,\n        \"max\": 99,\n        \"num_unique_values\": 51,\n        \"samples\": [\n          7,\n          12,\n          48\n        ],\n        \"semantic_type\": \"\",\n        \"description\": \"\"\n      }\n    },\n    {\n      \"column\": \"Insulin\",\n      \"properties\": {\n        \"dtype\": \"number\",\n        \"std\": 115,\n        \"min\": 0,\n        \"max\": 846,\n        \"num_unique_values\": 186,\n        \"samples\": [\n          52,\n          41,\n          183\n        ],\n        \"semantic_type\": \"\",\n        \"description\": \"\"\n      }\n    },\n    {\n      \"column\": \"BMI\",\n      \"properties\": {\n        \"dtype\": \"number\",\n        \"std\": 7.884160320375446,\n        \"min\": 0.0,\n        \"max\": 67.1,\n        \"num_unique_values\": 248,\n        \"samples\": [\n          19.9,\n          31.0,\n          38.1\n        ],\n        \"semantic_type\": \"\",\n        \"description\": \"\"\n      }\n    },\n    {\n      \"column\": \"DiabetesPedigreeFunction\",\n      \"properties\": {\n        \"dtype\": \"number\",\n        \"std\": 0.3313285950127749,\n        \"min\": 0.078,\n        \"max\": 2.42,\n        \"num_unique_values\": 517,\n        \"samples\": [\n          1.731,\n          0.426,\n          0.138\n        ],\n        \"semantic_type\": \"\",\n        \"description\": \"\"\n      }\n    },\n    {\n      \"column\": \"Age\",\n      \"properties\": {\n        \"dtype\": \"number\",\n        \"std\": 11,\n        \"min\": 21,\n        \"max\": 81,\n        \"num_unique_values\": 52,\n        \"samples\": [\n          60,\n          47,\n          72\n        ],\n        \"semantic_type\": \"\",\n        \"description\": \"\"\n      }\n    },\n    {\n      \"column\": \"Outcome\",\n      \"properties\": {\n        \"dtype\": \"number\",\n        \"std\": 0,\n        \"min\": 0,\n        \"max\": 1,\n        \"num_unique_values\": 2,\n        \"samples\": [\n          0,\n          1\n        ],\n        \"semantic_type\": \"\",\n        \"description\": \"\"\n      }\n    }\n  ]\n}",
              "type": "dataframe",
              "variable_name": "data"
            },
            "text/html": [
              "\n",
              "  <div id=\"df-4d1bf7cc-989d-4c56-9468-b5651213a646\" class=\"colab-df-container\">\n",
              "    <div>\n",
              "<style scoped>\n",
              "    .dataframe tbody tr th:only-of-type {\n",
              "        vertical-align: middle;\n",
              "    }\n",
              "\n",
              "    .dataframe tbody tr th {\n",
              "        vertical-align: top;\n",
              "    }\n",
              "\n",
              "    .dataframe thead th {\n",
              "        text-align: right;\n",
              "    }\n",
              "</style>\n",
              "<table border=\"1\" class=\"dataframe\">\n",
              "  <thead>\n",
              "    <tr style=\"text-align: right;\">\n",
              "      <th></th>\n",
              "      <th>Pregnancies</th>\n",
              "      <th>Glucose</th>\n",
              "      <th>BloodPressure</th>\n",
              "      <th>SkinThickness</th>\n",
              "      <th>Insulin</th>\n",
              "      <th>BMI</th>\n",
              "      <th>DiabetesPedigreeFunction</th>\n",
              "      <th>Age</th>\n",
              "      <th>Outcome</th>\n",
              "    </tr>\n",
              "  </thead>\n",
              "  <tbody>\n",
              "    <tr>\n",
              "      <th>0</th>\n",
              "      <td>6</td>\n",
              "      <td>148</td>\n",
              "      <td>72</td>\n",
              "      <td>35</td>\n",
              "      <td>0</td>\n",
              "      <td>33.6</td>\n",
              "      <td>0.627</td>\n",
              "      <td>50</td>\n",
              "      <td>1</td>\n",
              "    </tr>\n",
              "    <tr>\n",
              "      <th>1</th>\n",
              "      <td>1</td>\n",
              "      <td>85</td>\n",
              "      <td>66</td>\n",
              "      <td>29</td>\n",
              "      <td>0</td>\n",
              "      <td>26.6</td>\n",
              "      <td>0.351</td>\n",
              "      <td>31</td>\n",
              "      <td>0</td>\n",
              "    </tr>\n",
              "    <tr>\n",
              "      <th>2</th>\n",
              "      <td>8</td>\n",
              "      <td>183</td>\n",
              "      <td>64</td>\n",
              "      <td>0</td>\n",
              "      <td>0</td>\n",
              "      <td>23.3</td>\n",
              "      <td>0.672</td>\n",
              "      <td>32</td>\n",
              "      <td>1</td>\n",
              "    </tr>\n",
              "    <tr>\n",
              "      <th>3</th>\n",
              "      <td>1</td>\n",
              "      <td>89</td>\n",
              "      <td>66</td>\n",
              "      <td>23</td>\n",
              "      <td>94</td>\n",
              "      <td>28.1</td>\n",
              "      <td>0.167</td>\n",
              "      <td>21</td>\n",
              "      <td>0</td>\n",
              "    </tr>\n",
              "    <tr>\n",
              "      <th>4</th>\n",
              "      <td>0</td>\n",
              "      <td>137</td>\n",
              "      <td>40</td>\n",
              "      <td>35</td>\n",
              "      <td>168</td>\n",
              "      <td>43.1</td>\n",
              "      <td>2.288</td>\n",
              "      <td>33</td>\n",
              "      <td>1</td>\n",
              "    </tr>\n",
              "  </tbody>\n",
              "</table>\n",
              "</div>\n",
              "    <div class=\"colab-df-buttons\">\n",
              "\n",
              "  <div class=\"colab-df-container\">\n",
              "    <button class=\"colab-df-convert\" onclick=\"convertToInteractive('df-4d1bf7cc-989d-4c56-9468-b5651213a646')\"\n",
              "            title=\"Convert this dataframe to an interactive table.\"\n",
              "            style=\"display:none;\">\n",
              "\n",
              "  <svg xmlns=\"http://www.w3.org/2000/svg\" height=\"24px\" viewBox=\"0 -960 960 960\">\n",
              "    <path d=\"M120-120v-720h720v720H120Zm60-500h600v-160H180v160Zm220 220h160v-160H400v160Zm0 220h160v-160H400v160ZM180-400h160v-160H180v160Zm440 0h160v-160H620v160ZM180-180h160v-160H180v160Zm440 0h160v-160H620v160Z\"/>\n",
              "  </svg>\n",
              "    </button>\n",
              "\n",
              "  <style>\n",
              "    .colab-df-container {\n",
              "      display:flex;\n",
              "      gap: 12px;\n",
              "    }\n",
              "\n",
              "    .colab-df-convert {\n",
              "      background-color: #E8F0FE;\n",
              "      border: none;\n",
              "      border-radius: 50%;\n",
              "      cursor: pointer;\n",
              "      display: none;\n",
              "      fill: #1967D2;\n",
              "      height: 32px;\n",
              "      padding: 0 0 0 0;\n",
              "      width: 32px;\n",
              "    }\n",
              "\n",
              "    .colab-df-convert:hover {\n",
              "      background-color: #E2EBFA;\n",
              "      box-shadow: 0px 1px 2px rgba(60, 64, 67, 0.3), 0px 1px 3px 1px rgba(60, 64, 67, 0.15);\n",
              "      fill: #174EA6;\n",
              "    }\n",
              "\n",
              "    .colab-df-buttons div {\n",
              "      margin-bottom: 4px;\n",
              "    }\n",
              "\n",
              "    [theme=dark] .colab-df-convert {\n",
              "      background-color: #3B4455;\n",
              "      fill: #D2E3FC;\n",
              "    }\n",
              "\n",
              "    [theme=dark] .colab-df-convert:hover {\n",
              "      background-color: #434B5C;\n",
              "      box-shadow: 0px 1px 3px 1px rgba(0, 0, 0, 0.15);\n",
              "      filter: drop-shadow(0px 1px 2px rgba(0, 0, 0, 0.3));\n",
              "      fill: #FFFFFF;\n",
              "    }\n",
              "  </style>\n",
              "\n",
              "    <script>\n",
              "      const buttonEl =\n",
              "        document.querySelector('#df-4d1bf7cc-989d-4c56-9468-b5651213a646 button.colab-df-convert');\n",
              "      buttonEl.style.display =\n",
              "        google.colab.kernel.accessAllowed ? 'block' : 'none';\n",
              "\n",
              "      async function convertToInteractive(key) {\n",
              "        const element = document.querySelector('#df-4d1bf7cc-989d-4c56-9468-b5651213a646');\n",
              "        const dataTable =\n",
              "          await google.colab.kernel.invokeFunction('convertToInteractive',\n",
              "                                                    [key], {});\n",
              "        if (!dataTable) return;\n",
              "\n",
              "        const docLinkHtml = 'Like what you see? Visit the ' +\n",
              "          '<a target=\"_blank\" href=https://colab.research.google.com/notebooks/data_table.ipynb>data table notebook</a>'\n",
              "          + ' to learn more about interactive tables.';\n",
              "        element.innerHTML = '';\n",
              "        dataTable['output_type'] = 'display_data';\n",
              "        await google.colab.output.renderOutput(dataTable, element);\n",
              "        const docLink = document.createElement('div');\n",
              "        docLink.innerHTML = docLinkHtml;\n",
              "        element.appendChild(docLink);\n",
              "      }\n",
              "    </script>\n",
              "  </div>\n",
              "\n",
              "\n",
              "<div id=\"df-27fc2ec2-b7a5-45d4-aded-9f11695b70b9\">\n",
              "  <button class=\"colab-df-quickchart\" onclick=\"quickchart('df-27fc2ec2-b7a5-45d4-aded-9f11695b70b9')\"\n",
              "            title=\"Suggest charts\"\n",
              "            style=\"display:none;\">\n",
              "\n",
              "<svg xmlns=\"http://www.w3.org/2000/svg\" height=\"24px\"viewBox=\"0 0 24 24\"\n",
              "     width=\"24px\">\n",
              "    <g>\n",
              "        <path d=\"M19 3H5c-1.1 0-2 .9-2 2v14c0 1.1.9 2 2 2h14c1.1 0 2-.9 2-2V5c0-1.1-.9-2-2-2zM9 17H7v-7h2v7zm4 0h-2V7h2v10zm4 0h-2v-4h2v4z\"/>\n",
              "    </g>\n",
              "</svg>\n",
              "  </button>\n",
              "\n",
              "<style>\n",
              "  .colab-df-quickchart {\n",
              "      --bg-color: #E8F0FE;\n",
              "      --fill-color: #1967D2;\n",
              "      --hover-bg-color: #E2EBFA;\n",
              "      --hover-fill-color: #174EA6;\n",
              "      --disabled-fill-color: #AAA;\n",
              "      --disabled-bg-color: #DDD;\n",
              "  }\n",
              "\n",
              "  [theme=dark] .colab-df-quickchart {\n",
              "      --bg-color: #3B4455;\n",
              "      --fill-color: #D2E3FC;\n",
              "      --hover-bg-color: #434B5C;\n",
              "      --hover-fill-color: #FFFFFF;\n",
              "      --disabled-bg-color: #3B4455;\n",
              "      --disabled-fill-color: #666;\n",
              "  }\n",
              "\n",
              "  .colab-df-quickchart {\n",
              "    background-color: var(--bg-color);\n",
              "    border: none;\n",
              "    border-radius: 50%;\n",
              "    cursor: pointer;\n",
              "    display: none;\n",
              "    fill: var(--fill-color);\n",
              "    height: 32px;\n",
              "    padding: 0;\n",
              "    width: 32px;\n",
              "  }\n",
              "\n",
              "  .colab-df-quickchart:hover {\n",
              "    background-color: var(--hover-bg-color);\n",
              "    box-shadow: 0 1px 2px rgba(60, 64, 67, 0.3), 0 1px 3px 1px rgba(60, 64, 67, 0.15);\n",
              "    fill: var(--button-hover-fill-color);\n",
              "  }\n",
              "\n",
              "  .colab-df-quickchart-complete:disabled,\n",
              "  .colab-df-quickchart-complete:disabled:hover {\n",
              "    background-color: var(--disabled-bg-color);\n",
              "    fill: var(--disabled-fill-color);\n",
              "    box-shadow: none;\n",
              "  }\n",
              "\n",
              "  .colab-df-spinner {\n",
              "    border: 2px solid var(--fill-color);\n",
              "    border-color: transparent;\n",
              "    border-bottom-color: var(--fill-color);\n",
              "    animation:\n",
              "      spin 1s steps(1) infinite;\n",
              "  }\n",
              "\n",
              "  @keyframes spin {\n",
              "    0% {\n",
              "      border-color: transparent;\n",
              "      border-bottom-color: var(--fill-color);\n",
              "      border-left-color: var(--fill-color);\n",
              "    }\n",
              "    20% {\n",
              "      border-color: transparent;\n",
              "      border-left-color: var(--fill-color);\n",
              "      border-top-color: var(--fill-color);\n",
              "    }\n",
              "    30% {\n",
              "      border-color: transparent;\n",
              "      border-left-color: var(--fill-color);\n",
              "      border-top-color: var(--fill-color);\n",
              "      border-right-color: var(--fill-color);\n",
              "    }\n",
              "    40% {\n",
              "      border-color: transparent;\n",
              "      border-right-color: var(--fill-color);\n",
              "      border-top-color: var(--fill-color);\n",
              "    }\n",
              "    60% {\n",
              "      border-color: transparent;\n",
              "      border-right-color: var(--fill-color);\n",
              "    }\n",
              "    80% {\n",
              "      border-color: transparent;\n",
              "      border-right-color: var(--fill-color);\n",
              "      border-bottom-color: var(--fill-color);\n",
              "    }\n",
              "    90% {\n",
              "      border-color: transparent;\n",
              "      border-bottom-color: var(--fill-color);\n",
              "    }\n",
              "  }\n",
              "</style>\n",
              "\n",
              "  <script>\n",
              "    async function quickchart(key) {\n",
              "      const quickchartButtonEl =\n",
              "        document.querySelector('#' + key + ' button');\n",
              "      quickchartButtonEl.disabled = true;  // To prevent multiple clicks.\n",
              "      quickchartButtonEl.classList.add('colab-df-spinner');\n",
              "      try {\n",
              "        const charts = await google.colab.kernel.invokeFunction(\n",
              "            'suggestCharts', [key], {});\n",
              "      } catch (error) {\n",
              "        console.error('Error during call to suggestCharts:', error);\n",
              "      }\n",
              "      quickchartButtonEl.classList.remove('colab-df-spinner');\n",
              "      quickchartButtonEl.classList.add('colab-df-quickchart-complete');\n",
              "    }\n",
              "    (() => {\n",
              "      let quickchartButtonEl =\n",
              "        document.querySelector('#df-27fc2ec2-b7a5-45d4-aded-9f11695b70b9 button');\n",
              "      quickchartButtonEl.style.display =\n",
              "        google.colab.kernel.accessAllowed ? 'block' : 'none';\n",
              "    })();\n",
              "  </script>\n",
              "</div>\n",
              "    </div>\n",
              "  </div>\n"
            ],
            "text/plain": [
              "   Pregnancies  Glucose  BloodPressure  SkinThickness  Insulin   BMI  \\\n",
              "0            6      148             72             35        0  33.6   \n",
              "1            1       85             66             29        0  26.6   \n",
              "2            8      183             64              0        0  23.3   \n",
              "3            1       89             66             23       94  28.1   \n",
              "4            0      137             40             35      168  43.1   \n",
              "\n",
              "   DiabetesPedigreeFunction  Age  Outcome  \n",
              "0                     0.627   50        1  \n",
              "1                     0.351   31        0  \n",
              "2                     0.672   32        1  \n",
              "3                     0.167   21        0  \n",
              "4                     2.288   33        1  "
            ]
          },
          "execution_count": 41,
          "metadata": {},
          "output_type": "execute_result"
        }
      ],
      "source": [
        "data = pd.read_csv('08_trees_rf_data_1.csv')\n",
        "print(f\"Dataset shape: {data.shape}\")\n",
        "data.head()"
      ]
    },
    {
      "cell_type": "markdown",
      "metadata": {
        "id": "qO3QGi6g0rsf"
      },
      "source": [
        "Распределение целевой переменной:"
      ]
    },
    {
      "cell_type": "code",
      "execution_count": null,
      "metadata": {
        "colab": {
          "base_uri": "https://localhost:8080/",
          "height": 429
        },
        "id": "_92ubVX40rsf",
        "outputId": "09bba18a-7691-4872-fe91-6d4958603c2e"
      },
      "outputs": [
        {
          "data": {
            "image/png": "[encoded data removed]",
            "text/plain": [
              "<Figure size 640x480 with 1 Axes>"
            ]
          },
          "metadata": {},
          "output_type": "display_data"
        }
      ],
      "source": [
        "data['Outcome'].hist()\n",
        "plt.show()"
      ]
    },
    {
      "cell_type": "markdown",
      "metadata": {
        "id": "kVpMpteL0rsf"
      },
      "source": [
        "**3.1 Подготовка данных**"
      ]
    },
    {
      "cell_type": "code",
      "execution_count": null,
      "metadata": {
        "id": "itOvbHJw0rsf"
      },
      "outputs": [],
      "source": [
        "y = data['Outcome']\n",
        "data = data.drop(['Outcome'], axis=1)"
      ]
    },
    {
      "cell_type": "code",
      "execution_count": null,
      "metadata": {
        "id": "FKlqidcEhTjJ"
      },
      "outputs": [],
      "source": [
        "# разбиение датасета на обучающую и тестовую части в отношении 7:3\n",
        "data_train, data_test, y_train, y_test = train_test_split(data, y, test_size=0.3, random_state=42)"
      ]
    },
    {
      "cell_type": "code",
      "execution_count": null,
      "metadata": {
        "id": "lU0n6PKUhmDg"
      },
      "outputs": [],
      "source": [
        "# разделение обучающей выборки на обучающую-обучающую и обучающую-валидационную в соотношении 7:3\n",
        "data_train_train, data_train_validate, y_train_train, y_train_validate = train_test_split(data_train, y_train, test_size=0.3, random_state=42)\n",
        "\n",
        "# обучающая-обучающая (0.49 от исходного датасета), обучающая-валидационная (0.21 от исходного датасета) и тестовая (0.3 от исходного датасета)"
      ]
    },
    {
      "cell_type": "markdown",
      "metadata": {
        "id": "29kmCr4a0rsf"
      },
      "source": [
        "**3.2 Подбор оптимальных значений гиперпараметров `max_depth` и `min_samples_leaf` для `DecisionTreeClassifier`**"
      ]
    },
    {
      "cell_type": "code",
      "execution_count": null,
      "metadata": {
        "id": "326pJmK00rsf"
      },
      "outputs": [],
      "source": [
        "# списки с возможными значениями для перебора\n",
        "max_depth_array = [max_depth for max_depth in range(1, 10)]\n",
        "min_samples_leaf_array = [min_samples_leaf for min_samples_leaf in range(1, 10)]"
      ]
    },
    {
      "cell_type": "code",
      "execution_count": null,
      "metadata": {
        "id": "WWA4NkeG3HpR"
      },
      "outputs": [],
      "source": [
        "from sklearn.metrics import f1_score"
      ]
    },
    {
      "cell_type": "code",
      "execution_count": null,
      "metadata": {
        "colab": {
          "base_uri": "https://localhost:8080/"
        },
        "id": "9AZjsu752ZyX",
        "outputId": "2ec08cef-b974-4edd-8ae0-6cc4dacea2e6"
      },
      "outputs": [
        {
          "name": "stdout",
          "output_type": "stream",
          "text": [
            "Лучшая глубина: 7\n",
            "Минимальное число объектов в листе: 7\n",
            "f1-мера: 0.7142857142857143\n"
          ]
        }
      ],
      "source": [
        "f1_score_array = []\n",
        "max_depth_min_samples_leaf_array = []\n",
        "\n",
        "# для каждой пары значений\n",
        "for max_depth in max_depth_array:\n",
        "\n",
        "  for min_samples_leaf in min_samples_leaf_array:\n",
        "\n",
        "    dt = DecisionTreeClassifier(max_depth=max_depth, min_samples_leaf=min_samples_leaf, random_state=42)\n",
        "    # обучение дерева на обучающей-обучающей выборке\n",
        "    dt.fit(data_train_train, y_train_train)\n",
        "\n",
        "    # определение качества на обучающей-валидационной выборке\n",
        "    f1_score_array.append(f1_score(y_train_validate, dt.predict(data_train_validate)))\n",
        "    max_depth_min_samples_leaf_array.append((max_depth, min_samples_leaf))\n",
        "\n",
        "# выбор пары значений, которая даёт наилучшее качество на обучающей-валидационной выборке\n",
        "best_max_depth = max_depth_min_samples_leaf_array[np.argmax(f1_score_array)][0]\n",
        "best_min_samples_leaf = max_depth_min_samples_leaf_array[np.argmax(f1_score_array)][1]\n",
        "best_f1_score = f1_score_array[np.argmax(f1_score_array)]\n",
        "\n",
        "print('Лучшая глубина:', best_max_depth)\n",
        "print('Минимальное число объектов в листе:', best_min_samples_leaf)\n",
        "print('f1-мера:', best_f1_score)"
      ]
    },
    {
      "cell_type": "markdown",
      "metadata": {
        "id": "nw6dRurgmwgF"
      },
      "source": [
        "Обучение решающего дерева с подобранными гиперпараметрами на **полной обучающей** выборке. Оценка качества классификации на тестовой выборке по метрикам `accuracy`, `precision` и `recall`, `auc_roc`."
      ]
    },
    {
      "cell_type": "code",
      "execution_count": null,
      "metadata": {
        "colab": {
          "base_uri": "https://localhost:8080/"
        },
        "id": "ao3IpQSy52RU",
        "outputId": "5d83a881-1101-41d2-9ac4-fe8082ae1316"
      },
      "outputs": [
        {
          "name": "stdout",
          "output_type": "stream",
          "text": [
            "Accuracy on test: 0.696969696969697\n",
            "Precision on test: 0.5555555555555556\n",
            "Recall on test: 0.625\n",
            "AUC_ROC on test: 0.6800496688741722\n"
          ]
        }
      ],
      "source": [
        "dt = DecisionTreeClassifier(max_depth=best_max_depth, min_samples_leaf=best_min_samples_leaf, random_state=42)\n",
        "dt.fit(data_train, y_train)\n",
        "\n",
        "predictions = dt.predict(data_test)\n",
        "\n",
        "print('Accuracy on test:', accuracy_score(y_test, predictions))\n",
        "print('Precision on test:', precision_score(y_test, predictions))\n",
        "print('Recall on test:', recall_score(y_test, predictions))\n",
        "print('AUC_ROC on test:', roc_auc_score(y_test, predictions))\n",
        "# доля верных ответов, полнота и площадь под ROC-кривой неплохие, точность похуже"
      ]
    },
    {
      "cell_type": "markdown",
      "metadata": {
        "id": "4D1McqiT0rsg"
      },
      "source": [
        "**3.3 Обучение [`BaggingClassifier`](https://scikit-learn.org/stable/modules/generated/sklearn.ensemble.BaggingClassifier.html) на 50 деревьях на полной обучающей выборке. Оценка качества классификации на тестовой выборке**"
      ]
    },
    {
      "cell_type": "code",
      "execution_count": null,
      "metadata": {
        "colab": {
          "base_uri": "https://localhost:8080/"
        },
        "id": "pkKJIMxa0rsg",
        "outputId": "2046e33b-aa3a-4826-c90f-e276a9c39eca"
      },
      "outputs": [
        {
          "name": "stdout",
          "output_type": "stream",
          "text": [
            "Accuracy on test: 0.7489177489177489\n",
            "Precision on test: 0.6309523809523809\n",
            "Recall on test: 0.6625\n",
            "AUC_ROC on test: 0.7286009933774835\n"
          ]
        }
      ],
      "source": [
        "base_tree = DecisionTreeClassifier(random_state=42)\n",
        "bag = BaggingClassifier(base_tree, n_estimators=50, random_state=42)\n",
        "bag.fit(data_train, y_train)\n",
        "\n",
        "predictions = bag.predict(data_test)\n",
        "\n",
        "print('Accuracy on test:', accuracy_score(y_test, predictions))\n",
        "print('Precision on test:', precision_score(y_test, predictions))\n",
        "print('Recall on test:', recall_score(y_test, predictions))\n",
        "print('AUC_ROC on test:', roc_auc_score(y_test, predictions))"
      ]
    },
    {
      "cell_type": "code",
      "execution_count": null,
      "metadata": {
        "colab": {
          "background_save": true,
          "base_uri": "https://localhost:8080/"
        },
        "id": "jOUPknZFBl_E",
        "outputId": "573151dd-735e-46a5-f718-0c42f1b6696b"
      },
      "outputs": [
        {
          "name": "stdout",
          "output_type": "stream",
          "text": [
            "Accuracy on test: 0.7575757575757576\n",
            "Precision on test: 0.6463414634146342\n",
            "Recall on test: 0.6625\n",
            "AUC_ROC on test: 0.7352235099337749\n"
          ]
        }
      ],
      "source": [
        "# с оптимальными max_depth и min_samples_leaf\n",
        "base_tree = DecisionTreeClassifier(max_depth=best_max_depth, min_samples_leaf=best_min_samples_leaf, random_state=42)\n",
        "bag = BaggingClassifier(base_tree, n_estimators=50, random_state=42)\n",
        "bag.fit(data_train, y_train)\n",
        "\n",
        "predictions = bag.predict(data_test)\n",
        "\n",
        "print('Accuracy on test:', accuracy_score(y_test, predictions))\n",
        "print('Precision on test:', precision_score(y_test, predictions))\n",
        "print('Recall on test:', recall_score(y_test, predictions))\n",
        "print('AUC_ROC on test:', roc_auc_score(y_test, predictions))\n",
        "\n",
        "# в обоих случаях все метрики подросли"
      ]
    },
    {
      "cell_type": "markdown",
      "metadata": {
        "id": "6MdB_ojQ0rsg"
      },
      "source": [
        "**3.4 Кросс-валидация на полной обучающей выборке и подбор оптимальных значений гиперпараметров `max_depth` и `min_samples_split` для `Random Forest` с 50 деревьями**"
      ]
    },
    {
      "cell_type": "code",
      "execution_count": null,
      "metadata": {
        "colab": {
          "background_save": true
        },
        "id": "Pt4ftL440rsg"
      },
      "outputs": [],
      "source": [
        "# списки с возможными значениями для перебора\n",
        "max_depth_array = [max_depth for max_depth in range(1, 10)]\n",
        "min_samples_leaf_array = [min_samples_leaf for min_samples_leaf in range(1, 10)]"
      ]
    },
    {
      "cell_type": "code",
      "execution_count": null,
      "metadata": {
        "colab": {
          "background_save": true
        },
        "id": "b7KQaU4HmZ9G"
      },
      "outputs": [],
      "source": [
        "from sklearn.model_selection import cross_val_score"
      ]
    },
    {
      "cell_type": "code",
      "execution_count": null,
      "metadata": {
        "colab": {
          "background_save": true,
          "base_uri": "https://localhost:8080/"
        },
        "id": "_IoiIefAi_iR",
        "outputId": "510184cd-e093-4d1f-fb51-fb2343dbe480"
      },
      "outputs": [
        {
          "name": "stdout",
          "output_type": "stream",
          "text": [
            "Лучшая глубина: 9\n",
            "Минимальное число объектов в листе: 1\n",
            "f1-мера: 0.6449713890046731\n"
          ]
        }
      ],
      "source": [
        "f1_scores_CV = []\n",
        "max_depth_min_samples_leaf_array = []\n",
        "\n",
        "# для каждой пары значений\n",
        "for max_depth in max_depth_array:\n",
        "\n",
        "  for min_samples_leaf in min_samples_leaf_array:\n",
        "\n",
        "    # кросс-валидация на полной обучающей выборке\n",
        "    rf = RandomForestClassifier(n_estimators=50, max_depth=max_depth, min_samples_leaf=min_samples_leaf, random_state=42)\n",
        "    # усреднение значений критерия по всем прогонам кросс-валидации\n",
        "    f1_scores_CV.append(np.mean(cross_val_score(rf, data_train, y_train, cv=5, scoring='f1')))\n",
        "    max_depth_min_samples_leaf_array.append((max_depth, min_samples_leaf))\n",
        "\n",
        "# выбор пары значений, которая даёт наилучшее среднее качество\n",
        "best_max_depth_CV = max_depth_min_samples_leaf_array[np.argmax(f1_scores_CV)][0]\n",
        "best_min_samples_leaf_CV = max_depth_min_samples_leaf_array[np.argmax(f1_scores_CV)][1]\n",
        "best_f1_score_CV = f1_scores_CV[np.argmax(f1_scores_CV)]\n",
        "\n",
        "print('Лучшая глубина:', best_max_depth_CV)\n",
        "print('Минимальное число объектов в листе:', best_min_samples_leaf_CV)\n",
        "print('f1-мера:', best_f1_score_CV)"
      ]
    },
    {
      "cell_type": "markdown",
      "metadata": {
        "id": "BDCx-1NSo1tf"
      },
      "source": [
        "Обучение случайного леса с подобранными гиперпараметрами на **полной обучающей** выборке. Оценка качества классификации."
      ]
    },
    {
      "cell_type": "code",
      "execution_count": null,
      "metadata": {
        "colab": {
          "background_save": true,
          "base_uri": "https://localhost:8080/"
        },
        "id": "S557sYg95b5F",
        "outputId": "5113bb39-4f93-4ea7-e6b9-b93e5dba5d46"
      },
      "outputs": [
        {
          "name": "stdout",
          "output_type": "stream",
          "text": [
            "Accuracy on test: 0.7402597402597403\n",
            "Precision on test: 0.625\n",
            "Recall on test: 0.625\n",
            "AUC_ROC on test: 0.7131622516556292\n"
          ]
        }
      ],
      "source": [
        "rf_CV = RandomForestClassifier(n_estimators=50, max_depth=best_max_depth_CV, min_samples_leaf=best_min_samples_leaf_CV, random_state=42)\n",
        "rf_CV.fit(data_train, y_train)\n",
        "\n",
        "predictions = rf_CV.predict(data_test)\n",
        "\n",
        "print('Accuracy on test:', accuracy_score(y_test, predictions))\n",
        "print('Precision on test:', precision_score(y_test, predictions))\n",
        "print('Recall on test:', recall_score(y_test, predictions))\n",
        "print('AUC_ROC on test:', roc_auc_score(y_test, predictions))"
      ]
    },
    {
      "cell_type": "code",
      "execution_count": null,
      "metadata": {
        "colab": {
          "background_save": true
        },
        "id": "v1G7k6AoIYut"
      },
      "outputs": [],
      "source": [
        "from sklearn.model_selection import GridSearchCV"
      ]
    },
    {
      "cell_type": "code",
      "execution_count": null,
      "metadata": {
        "colab": {
          "background_save": true
        },
        "id": "xkvLhoUZqKI6"
      },
      "outputs": [],
      "source": [
        "import warnings\n",
        "warnings.filterwarnings(\"default\", category=RuntimeWarning)"
      ]
    },
    {
      "cell_type": "code",
      "execution_count": null,
      "metadata": {
        "colab": {
          "background_save": true,
          "base_uri": "https://localhost:8080/"
        },
        "id": "1ASNGUWMH3Cv",
        "outputId": "3e2719a6-9588-489f-c504-a9c36694559d"
      },
      "outputs": [
        {
          "name": "stdout",
          "output_type": "stream",
          "text": [
            "{'max_depth': 9, 'min_samples_leaf': 1} best mean f1 score: 0.6449713890046731\n",
            "Accuracy on test: 0.7402597402597403\n",
            "Precision on test: 0.625\n",
            "Recall on test: 0.625\n",
            "AUC_ROC on test: 0.7131622516556292\n"
          ]
        }
      ],
      "source": [
        "# другой способ, результаты те же\n",
        "params = {'max_depth': max_depth_array, 'min_samples_leaf': min_samples_leaf_array}\n",
        "\n",
        "rf = RandomForestClassifier(n_estimators=50, random_state=42)\n",
        "\n",
        "clf_CV = GridSearchCV(rf, params, scoring='f1', cv=5)\n",
        "clf_CV.fit(data_train, y_train)\n",
        "\n",
        "predictions = clf_CV.predict(data_test)\n",
        "\n",
        "print(clf_CV.best_params_, 'best mean f1 score:', clf_CV.best_score_)\n",
        "print('Accuracy on test:', accuracy_score(y_test, predictions))\n",
        "print('Precision on test:', precision_score(y_test, predictions))\n",
        "print('Recall on test:', recall_score(y_test, predictions))\n",
        "print('AUC_ROC on test:', roc_auc_score(y_test, predictions))"
      ]
    },
    {
      "cell_type": "markdown",
      "metadata": {
        "id": "JDDyYh0c_qbl"
      },
      "source": [
        "Лучшей моделью оказался BaggingClassifier, обученный на 50 деревьях."
      ]
    },
    {
      "cell_type": "markdown",
      "metadata": {
        "id": "yea5Tve_0rsg"
      },
      "source": [
        "**3.5 Построение графика зависимости AUC-ROC на тестовой выборке от числа деревьев для случайного леса, обучаемого на полной обучающей выборке**"
      ]
    },
    {
      "cell_type": "code",
      "execution_count": null,
      "metadata": {
        "id": "kcnDanPB0rsg"
      },
      "outputs": [],
      "source": [
        "number_of_trees = [num_of_trees for num_of_trees in range(1, 200)]\n",
        "AUC_ROCs = []\n",
        "\n",
        "for num_of_trees in number_of_trees:\n",
        "\n",
        "  rf = RandomForestClassifier(n_estimators=num_of_trees, random_state=42)\n",
        "  rf.fit(data_train, y_train)\n",
        "\n",
        "  predictions = rf.predict(data_test)\n",
        "\n",
        "  AUC_ROCs.append(roc_auc_score(y_test, predictions))"
      ]
    },
    {
      "cell_type": "code",
      "execution_count": null,
      "metadata": {
        "colab": {
          "base_uri": "https://localhost:8080/"
        },
        "id": "CPr6i8kxKwc5",
        "outputId": "fe4da3d5-fcb3-47d8-a93b-d718271c145b"
      },
      "outputs": [
        {
          "name": "stdout",
          "output_type": "stream",
          "text": [
            "Лучшая AUC-ROC: 0.7411009933774835\n",
            "Число деревьев 11\n"
          ]
        }
      ],
      "source": [
        "print('Лучшая AUC-ROC:', AUC_ROCs[np.argmax(AUC_ROCs)])\n",
        "print('Число деревьев', number_of_trees[np.argmax(AUC_ROCs)])"
      ]
    },
    {
      "cell_type": "code",
      "execution_count": null,
      "metadata": {
        "colab": {
          "base_uri": "https://localhost:8080/",
          "height": 563
        },
        "id": "xz_hWOE_Bpl6",
        "outputId": "1389a35b-1ce0-475f-ad6f-714ad3629549"
      },
      "outputs": [
        {
          "data": {
            "image/png": "[encoded data removed]",
            "text/plain": [
              "<Figure size 1000x600 with 1 Axes>"
            ]
          },
          "metadata": {},
          "output_type": "display_data"
        }
      ],
      "source": [
        "plt.figure(figsize=(10, 6))\n",
        "plt.plot(number_of_trees, AUC_ROCs)\n",
        "plt.title('График зависимости значения AUC-ROC от числа деревьев для RF')\n",
        "plt.xlabel('Число деревьев')\n",
        "plt.ylabel('AUC-ROC')\n",
        "plt.show()"
      ]
    },
    {
      "cell_type": "markdown",
      "metadata": {
        "id": "p8apBd8sJAyz"
      },
      "source": [
        "Как видно на графике, сначала значение площади под ROC-кривой растет с увеличением числа деревьев в случайном лесу, а затем колеблется в интервале от 0.71 до 0.74, при этом самое лучшее значение достигается при числе деревьев, равном 11. В отличие от MSE, которая будет постоянно только уменьшаться с ростом числа деревьев, AUC-ROC может немного колебаться с ростом числа деревьев."
      ]
    },
    {
      "cell_type": "markdown",
      "metadata": {
        "id": "2ugaugJv0rsh"
      },
      "source": [
        "**3.6 Подсчет важности признаков для лучшей модели случайного леса из п. 3.4**"
      ]
    },
    {
      "cell_type": "code",
      "execution_count": null,
      "metadata": {
        "colab": {
          "base_uri": "https://localhost:8080/",
          "height": 291
        },
        "id": "ACdsR5EJ0rsh",
        "outputId": "5b6717a2-5941-42b7-d289-1c0f06c3d821"
      },
      "outputs": [
        {
          "data": {
            "application/vnd.google.colaboratory.intrinsic+json": {
              "summary": "{\n  \"name\": \"pd\",\n  \"rows\": 8,\n  \"fields\": [\n    {\n      \"column\": \"Feature\",\n      \"properties\": {\n        \"dtype\": \"string\",\n        \"num_unique_values\": 8,\n        \"samples\": [\n          \"BMI\",\n          \"Pregnancies\",\n          \"Glucose\"\n        ],\n        \"semantic_type\": \"\",\n        \"description\": \"\"\n      }\n    },\n    {\n      \"column\": \"Importance\",\n      \"properties\": {\n        \"dtype\": \"number\",\n        \"std\": 0.07554286486660673,\n        \"min\": 0.061608072194477455,\n        \"max\": 0.2907214743541221,\n        \"num_unique_values\": 8,\n        \"samples\": [\n          0.161252208046131,\n          0.07785744583235081,\n          0.2907214743541221\n        ],\n        \"semantic_type\": \"\",\n        \"description\": \"\"\n      }\n    }\n  ]\n}",
              "type": "dataframe"
            },
            "text/html": [
              "\n",
              "  <div id=\"df-805caf36-fce2-4a3f-83dc-dedfa4514ecb\" class=\"colab-df-container\">\n",
              "    <div>\n",
              "<style scoped>\n",
              "    .dataframe tbody tr th:only-of-type {\n",
              "        vertical-align: middle;\n",
              "    }\n",
              "\n",
              "    .dataframe tbody tr th {\n",
              "        vertical-align: top;\n",
              "    }\n",
              "\n",
              "    .dataframe thead th {\n",
              "        text-align: right;\n",
              "    }\n",
              "</style>\n",
              "<table border=\"1\" class=\"dataframe\">\n",
              "  <thead>\n",
              "    <tr style=\"text-align: right;\">\n",
              "      <th></th>\n",
              "      <th>Feature</th>\n",
              "      <th>Importance</th>\n",
              "    </tr>\n",
              "  </thead>\n",
              "  <tbody>\n",
              "    <tr>\n",
              "      <th>0</th>\n",
              "      <td>Glucose</td>\n",
              "      <td>0.290721</td>\n",
              "    </tr>\n",
              "    <tr>\n",
              "      <th>1</th>\n",
              "      <td>BMI</td>\n",
              "      <td>0.161252</td>\n",
              "    </tr>\n",
              "    <tr>\n",
              "      <th>2</th>\n",
              "      <td>Age</td>\n",
              "      <td>0.143014</td>\n",
              "    </tr>\n",
              "    <tr>\n",
              "      <th>3</th>\n",
              "      <td>DiabetesPedigreeFunction</td>\n",
              "      <td>0.108664</td>\n",
              "    </tr>\n",
              "    <tr>\n",
              "      <th>4</th>\n",
              "      <td>BloodPressure</td>\n",
              "      <td>0.079312</td>\n",
              "    </tr>\n",
              "    <tr>\n",
              "      <th>5</th>\n",
              "      <td>Pregnancies</td>\n",
              "      <td>0.077857</td>\n",
              "    </tr>\n",
              "    <tr>\n",
              "      <th>6</th>\n",
              "      <td>Insulin</td>\n",
              "      <td>0.077571</td>\n",
              "    </tr>\n",
              "    <tr>\n",
              "      <th>7</th>\n",
              "      <td>SkinThickness</td>\n",
              "      <td>0.061608</td>\n",
              "    </tr>\n",
              "  </tbody>\n",
              "</table>\n",
              "</div>\n",
              "    <div class=\"colab-df-buttons\">\n",
              "\n",
              "  <div class=\"colab-df-container\">\n",
              "    <button class=\"colab-df-convert\" onclick=\"convertToInteractive('df-805caf36-fce2-4a3f-83dc-dedfa4514ecb')\"\n",
              "            title=\"Convert this dataframe to an interactive table.\"\n",
              "            style=\"display:none;\">\n",
              "\n",
              "  <svg xmlns=\"http://www.w3.org/2000/svg\" height=\"24px\" viewBox=\"0 -960 960 960\">\n",
              "    <path d=\"M120-120v-720h720v720H120Zm60-500h600v-160H180v160Zm220 220h160v-160H400v160Zm0 220h160v-160H400v160ZM180-400h160v-160H180v160Zm440 0h160v-160H620v160ZM180-180h160v-160H180v160Zm440 0h160v-160H620v160Z\"/>\n",
              "  </svg>\n",
              "    </button>\n",
              "\n",
              "  <style>\n",
              "    .colab-df-container {\n",
              "      display:flex;\n",
              "      gap: 12px;\n",
              "    }\n",
              "\n",
              "    .colab-df-convert {\n",
              "      background-color: #E8F0FE;\n",
              "      border: none;\n",
              "      border-radius: 50%;\n",
              "      cursor: pointer;\n",
              "      display: none;\n",
              "      fill: #1967D2;\n",
              "      height: 32px;\n",
              "      padding: 0 0 0 0;\n",
              "      width: 32px;\n",
              "    }\n",
              "\n",
              "    .colab-df-convert:hover {\n",
              "      background-color: #E2EBFA;\n",
              "      box-shadow: 0px 1px 2px rgba(60, 64, 67, 0.3), 0px 1px 3px 1px rgba(60, 64, 67, 0.15);\n",
              "      fill: #174EA6;\n",
              "    }\n",
              "\n",
              "    .colab-df-buttons div {\n",
              "      margin-bottom: 4px;\n",
              "    }\n",
              "\n",
              "    [theme=dark] .colab-df-convert {\n",
              "      background-color: #3B4455;\n",
              "      fill: #D2E3FC;\n",
              "    }\n",
              "\n",
              "    [theme=dark] .colab-df-convert:hover {\n",
              "      background-color: #434B5C;\n",
              "      box-shadow: 0px 1px 3px 1px rgba(0, 0, 0, 0.15);\n",
              "      filter: drop-shadow(0px 1px 2px rgba(0, 0, 0, 0.3));\n",
              "      fill: #FFFFFF;\n",
              "    }\n",
              "  </style>\n",
              "\n",
              "    <script>\n",
              "      const buttonEl =\n",
              "        document.querySelector('#df-805caf36-fce2-4a3f-83dc-dedfa4514ecb button.colab-df-convert');\n",
              "      buttonEl.style.display =\n",
              "        google.colab.kernel.accessAllowed ? 'block' : 'none';\n",
              "\n",
              "      async function convertToInteractive(key) {\n",
              "        const element = document.querySelector('#df-805caf36-fce2-4a3f-83dc-dedfa4514ecb');\n",
              "        const dataTable =\n",
              "          await google.colab.kernel.invokeFunction('convertToInteractive',\n",
              "                                                    [key], {});\n",
              "        if (!dataTable) return;\n",
              "\n",
              "        const docLinkHtml = 'Like what you see? Visit the ' +\n",
              "          '<a target=\"_blank\" href=https://colab.research.google.com/notebooks/data_table.ipynb>data table notebook</a>'\n",
              "          + ' to learn more about interactive tables.';\n",
              "        element.innerHTML = '';\n",
              "        dataTable['output_type'] = 'display_data';\n",
              "        await google.colab.output.renderOutput(dataTable, element);\n",
              "        const docLink = document.createElement('div');\n",
              "        docLink.innerHTML = docLinkHtml;\n",
              "        element.appendChild(docLink);\n",
              "      }\n",
              "    </script>\n",
              "  </div>\n",
              "\n",
              "\n",
              "<div id=\"df-dfd78a98-bc76-4bf2-9f99-0b37055c649e\">\n",
              "  <button class=\"colab-df-quickchart\" onclick=\"quickchart('df-dfd78a98-bc76-4bf2-9f99-0b37055c649e')\"\n",
              "            title=\"Suggest charts\"\n",
              "            style=\"display:none;\">\n",
              "\n",
              "<svg xmlns=\"http://www.w3.org/2000/svg\" height=\"24px\"viewBox=\"0 0 24 24\"\n",
              "     width=\"24px\">\n",
              "    <g>\n",
              "        <path d=\"M19 3H5c-1.1 0-2 .9-2 2v14c0 1.1.9 2 2 2h14c1.1 0 2-.9 2-2V5c0-1.1-.9-2-2-2zM9 17H7v-7h2v7zm4 0h-2V7h2v10zm4 0h-2v-4h2v4z\"/>\n",
              "    </g>\n",
              "</svg>\n",
              "  </button>\n",
              "\n",
              "<style>\n",
              "  .colab-df-quickchart {\n",
              "      --bg-color: #E8F0FE;\n",
              "      --fill-color: #1967D2;\n",
              "      --hover-bg-color: #E2EBFA;\n",
              "      --hover-fill-color: #174EA6;\n",
              "      --disabled-fill-color: #AAA;\n",
              "      --disabled-bg-color: #DDD;\n",
              "  }\n",
              "\n",
              "  [theme=dark] .colab-df-quickchart {\n",
              "      --bg-color: #3B4455;\n",
              "      --fill-color: #D2E3FC;\n",
              "      --hover-bg-color: #434B5C;\n",
              "      --hover-fill-color: #FFFFFF;\n",
              "      --disabled-bg-color: #3B4455;\n",
              "      --disabled-fill-color: #666;\n",
              "  }\n",
              "\n",
              "  .colab-df-quickchart {\n",
              "    background-color: var(--bg-color);\n",
              "    border: none;\n",
              "    border-radius: 50%;\n",
              "    cursor: pointer;\n",
              "    display: none;\n",
              "    fill: var(--fill-color);\n",
              "    height: 32px;\n",
              "    padding: 0;\n",
              "    width: 32px;\n",
              "  }\n",
              "\n",
              "  .colab-df-quickchart:hover {\n",
              "    background-color: var(--hover-bg-color);\n",
              "    box-shadow: 0 1px 2px rgba(60, 64, 67, 0.3), 0 1px 3px 1px rgba(60, 64, 67, 0.15);\n",
              "    fill: var(--button-hover-fill-color);\n",
              "  }\n",
              "\n",
              "  .colab-df-quickchart-complete:disabled,\n",
              "  .colab-df-quickchart-complete:disabled:hover {\n",
              "    background-color: var(--disabled-bg-color);\n",
              "    fill: var(--disabled-fill-color);\n",
              "    box-shadow: none;\n",
              "  }\n",
              "\n",
              "  .colab-df-spinner {\n",
              "    border: 2px solid var(--fill-color);\n",
              "    border-color: transparent;\n",
              "    border-bottom-color: var(--fill-color);\n",
              "    animation:\n",
              "      spin 1s steps(1) infinite;\n",
              "  }\n",
              "\n",
              "  @keyframes spin {\n",
              "    0% {\n",
              "      border-color: transparent;\n",
              "      border-bottom-color: var(--fill-color);\n",
              "      border-left-color: var(--fill-color);\n",
              "    }\n",
              "    20% {\n",
              "      border-color: transparent;\n",
              "      border-left-color: var(--fill-color);\n",
              "      border-top-color: var(--fill-color);\n",
              "    }\n",
              "    30% {\n",
              "      border-color: transparent;\n",
              "      border-left-color: var(--fill-color);\n",
              "      border-top-color: var(--fill-color);\n",
              "      border-right-color: var(--fill-color);\n",
              "    }\n",
              "    40% {\n",
              "      border-color: transparent;\n",
              "      border-right-color: var(--fill-color);\n",
              "      border-top-color: var(--fill-color);\n",
              "    }\n",
              "    60% {\n",
              "      border-color: transparent;\n",
              "      border-right-color: var(--fill-color);\n",
              "    }\n",
              "    80% {\n",
              "      border-color: transparent;\n",
              "      border-right-color: var(--fill-color);\n",
              "      border-bottom-color: var(--fill-color);\n",
              "    }\n",
              "    90% {\n",
              "      border-color: transparent;\n",
              "      border-bottom-color: var(--fill-color);\n",
              "    }\n",
              "  }\n",
              "</style>\n",
              "\n",
              "  <script>\n",
              "    async function quickchart(key) {\n",
              "      const quickchartButtonEl =\n",
              "        document.querySelector('#' + key + ' button');\n",
              "      quickchartButtonEl.disabled = true;  // To prevent multiple clicks.\n",
              "      quickchartButtonEl.classList.add('colab-df-spinner');\n",
              "      try {\n",
              "        const charts = await google.colab.kernel.invokeFunction(\n",
              "            'suggestCharts', [key], {});\n",
              "      } catch (error) {\n",
              "        console.error('Error during call to suggestCharts:', error);\n",
              "      }\n",
              "      quickchartButtonEl.classList.remove('colab-df-spinner');\n",
              "      quickchartButtonEl.classList.add('colab-df-quickchart-complete');\n",
              "    }\n",
              "    (() => {\n",
              "      let quickchartButtonEl =\n",
              "        document.querySelector('#df-dfd78a98-bc76-4bf2-9f99-0b37055c649e button');\n",
              "      quickchartButtonEl.style.display =\n",
              "        google.colab.kernel.accessAllowed ? 'block' : 'none';\n",
              "    })();\n",
              "  </script>\n",
              "</div>\n",
              "    </div>\n",
              "  </div>\n"
            ],
            "text/plain": [
              "                    Feature  Importance\n",
              "0                   Glucose    0.290721\n",
              "1                       BMI    0.161252\n",
              "2                       Age    0.143014\n",
              "3  DiabetesPedigreeFunction    0.108664\n",
              "4             BloodPressure    0.079312\n",
              "5               Pregnancies    0.077857\n",
              "6                   Insulin    0.077571\n",
              "7             SkinThickness    0.061608"
            ]
          },
          "execution_count": 62,
          "metadata": {},
          "output_type": "execute_result"
        }
      ],
      "source": [
        "pd.DataFrame({\"Feature\": data.columns, \"Importance\": rf_CV.feature_importances_}).sort_values(by=\"Importance\", ascending=False).reset_index(drop=True)"
      ]
    },
    {
      "cell_type": "code",
      "execution_count": null,
      "metadata": {
        "colab": {
          "base_uri": "https://localhost:8080/",
          "height": 487
        },
        "id": "ian9Xq79nx2P",
        "outputId": "b94a32b2-780d-4006-c73b-effa1da16f4d"
      },
      "outputs": [
        {
          "data": {
            "image/png": "[encoded data removed]",
            "text/plain": [
              "<Figure size 1200x500 with 1 Axes>"
            ]
          },
          "metadata": {},
          "output_type": "display_data"
        }
      ],
      "source": [
        "plt.figure(figsize=(12, 5))\n",
        "plt.title(\"Feature importances\")\n",
        "plt.bar(data.columns, rf_CV.feature_importances_)\n",
        "plt.xlabel('Feature')\n",
        "plt.ylabel('Importance')\n",
        "plt.show()\n",
        "\n",
        "# самым важным для определения диабета признаком оказалась концентрация глюкозы в крови"
      ]
    },
    {
      "cell_type": "markdown",
      "metadata": {
        "id": "jRDKMgfMRMi9"
      },
      "source": [
        "![meme.jpg](data:image/jpeg;base64,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)"
      ]
    }
  ],
  "metadata": {
    "colab": {
      "provenance": []
    },
    "kernelspec": {
      "display_name": "Python 3",
      "language": "python",
      "name": "python3"
    },
    "language_info": {
      "codemirror_mode": {
        "name": "ipython",
        "version": 3
      },
      "file_extension": ".py",
      "mimetype": "text/x-python",
      "name": "python",
      "nbconvert_exporter": "python",
      "pygments_lexer": "ipython3",
      "version": "3.8.5"
    }
  },
  "nbformat": 4,
  "nbformat_minor": 0
}
